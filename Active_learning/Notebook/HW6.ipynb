{
 "cells": [
  {
   "cell_type": "code",
   "execution_count": null,
   "metadata": {
    "collapsed": true
   },
   "outputs": [],
   "source": []
  },
  {
   "cell_type": "markdown",
   "metadata": {},
   "source": [
    "# Name:  Yucan Luo USC_ID: 8085970332"
   ]
  },
  {
   "cell_type": "markdown",
   "metadata": {},
   "source": [
    "# 1. Supervised, Semi-Supervised, and Unsupervised Learning"
   ]
  },
  {
   "cell_type": "code",
   "execution_count": 1,
   "metadata": {
    "collapsed": true
   },
   "outputs": [],
   "source": [
    "\n",
    "import pandas as pd\n",
    "import numpy as np"
   ]
  },
  {
   "cell_type": "code",
   "execution_count": 2,
   "metadata": {
    "collapsed": true
   },
   "outputs": [],
   "source": [
    "### import data \n",
    "\n",
    "data = pd.read_csv('../Homework 6 Data/wdbc.data', header=None)"
   ]
  },
  {
   "cell_type": "code",
   "execution_count": 3,
   "metadata": {},
   "outputs": [
    {
     "data": {
      "text/html": [
       "<div>\n",
       "<style scoped>\n",
       "    .dataframe tbody tr th:only-of-type {\n",
       "        vertical-align: middle;\n",
       "    }\n",
       "\n",
       "    .dataframe tbody tr th {\n",
       "        vertical-align: top;\n",
       "    }\n",
       "\n",
       "    .dataframe thead th {\n",
       "        text-align: right;\n",
       "    }\n",
       "</style>\n",
       "<table border=\"1\" class=\"dataframe\">\n",
       "  <thead>\n",
       "    <tr style=\"text-align: right;\">\n",
       "      <th></th>\n",
       "      <th>0</th>\n",
       "      <th>1</th>\n",
       "      <th>2</th>\n",
       "      <th>3</th>\n",
       "      <th>4</th>\n",
       "      <th>5</th>\n",
       "      <th>6</th>\n",
       "      <th>7</th>\n",
       "      <th>8</th>\n",
       "      <th>9</th>\n",
       "      <th>...</th>\n",
       "      <th>22</th>\n",
       "      <th>23</th>\n",
       "      <th>24</th>\n",
       "      <th>25</th>\n",
       "      <th>26</th>\n",
       "      <th>27</th>\n",
       "      <th>28</th>\n",
       "      <th>29</th>\n",
       "      <th>30</th>\n",
       "      <th>31</th>\n",
       "    </tr>\n",
       "  </thead>\n",
       "  <tbody>\n",
       "    <tr>\n",
       "      <th>0</th>\n",
       "      <td>842302</td>\n",
       "      <td>M</td>\n",
       "      <td>17.99</td>\n",
       "      <td>10.38</td>\n",
       "      <td>122.80</td>\n",
       "      <td>1001.0</td>\n",
       "      <td>0.11840</td>\n",
       "      <td>0.27760</td>\n",
       "      <td>0.3001</td>\n",
       "      <td>0.14710</td>\n",
       "      <td>...</td>\n",
       "      <td>25.38</td>\n",
       "      <td>17.33</td>\n",
       "      <td>184.60</td>\n",
       "      <td>2019.0</td>\n",
       "      <td>0.1622</td>\n",
       "      <td>0.6656</td>\n",
       "      <td>0.7119</td>\n",
       "      <td>0.2654</td>\n",
       "      <td>0.4601</td>\n",
       "      <td>0.11890</td>\n",
       "    </tr>\n",
       "    <tr>\n",
       "      <th>1</th>\n",
       "      <td>842517</td>\n",
       "      <td>M</td>\n",
       "      <td>20.57</td>\n",
       "      <td>17.77</td>\n",
       "      <td>132.90</td>\n",
       "      <td>1326.0</td>\n",
       "      <td>0.08474</td>\n",
       "      <td>0.07864</td>\n",
       "      <td>0.0869</td>\n",
       "      <td>0.07017</td>\n",
       "      <td>...</td>\n",
       "      <td>24.99</td>\n",
       "      <td>23.41</td>\n",
       "      <td>158.80</td>\n",
       "      <td>1956.0</td>\n",
       "      <td>0.1238</td>\n",
       "      <td>0.1866</td>\n",
       "      <td>0.2416</td>\n",
       "      <td>0.1860</td>\n",
       "      <td>0.2750</td>\n",
       "      <td>0.08902</td>\n",
       "    </tr>\n",
       "    <tr>\n",
       "      <th>2</th>\n",
       "      <td>84300903</td>\n",
       "      <td>M</td>\n",
       "      <td>19.69</td>\n",
       "      <td>21.25</td>\n",
       "      <td>130.00</td>\n",
       "      <td>1203.0</td>\n",
       "      <td>0.10960</td>\n",
       "      <td>0.15990</td>\n",
       "      <td>0.1974</td>\n",
       "      <td>0.12790</td>\n",
       "      <td>...</td>\n",
       "      <td>23.57</td>\n",
       "      <td>25.53</td>\n",
       "      <td>152.50</td>\n",
       "      <td>1709.0</td>\n",
       "      <td>0.1444</td>\n",
       "      <td>0.4245</td>\n",
       "      <td>0.4504</td>\n",
       "      <td>0.2430</td>\n",
       "      <td>0.3613</td>\n",
       "      <td>0.08758</td>\n",
       "    </tr>\n",
       "    <tr>\n",
       "      <th>3</th>\n",
       "      <td>84348301</td>\n",
       "      <td>M</td>\n",
       "      <td>11.42</td>\n",
       "      <td>20.38</td>\n",
       "      <td>77.58</td>\n",
       "      <td>386.1</td>\n",
       "      <td>0.14250</td>\n",
       "      <td>0.28390</td>\n",
       "      <td>0.2414</td>\n",
       "      <td>0.10520</td>\n",
       "      <td>...</td>\n",
       "      <td>14.91</td>\n",
       "      <td>26.50</td>\n",
       "      <td>98.87</td>\n",
       "      <td>567.7</td>\n",
       "      <td>0.2098</td>\n",
       "      <td>0.8663</td>\n",
       "      <td>0.6869</td>\n",
       "      <td>0.2575</td>\n",
       "      <td>0.6638</td>\n",
       "      <td>0.17300</td>\n",
       "    </tr>\n",
       "    <tr>\n",
       "      <th>4</th>\n",
       "      <td>84358402</td>\n",
       "      <td>M</td>\n",
       "      <td>20.29</td>\n",
       "      <td>14.34</td>\n",
       "      <td>135.10</td>\n",
       "      <td>1297.0</td>\n",
       "      <td>0.10030</td>\n",
       "      <td>0.13280</td>\n",
       "      <td>0.1980</td>\n",
       "      <td>0.10430</td>\n",
       "      <td>...</td>\n",
       "      <td>22.54</td>\n",
       "      <td>16.67</td>\n",
       "      <td>152.20</td>\n",
       "      <td>1575.0</td>\n",
       "      <td>0.1374</td>\n",
       "      <td>0.2050</td>\n",
       "      <td>0.4000</td>\n",
       "      <td>0.1625</td>\n",
       "      <td>0.2364</td>\n",
       "      <td>0.07678</td>\n",
       "    </tr>\n",
       "  </tbody>\n",
       "</table>\n",
       "<p>5 rows × 32 columns</p>\n",
       "</div>"
      ],
      "text/plain": [
       "         0  1      2      3       4       5        6        7       8   \\\n",
       "0    842302  M  17.99  10.38  122.80  1001.0  0.11840  0.27760  0.3001   \n",
       "1    842517  M  20.57  17.77  132.90  1326.0  0.08474  0.07864  0.0869   \n",
       "2  84300903  M  19.69  21.25  130.00  1203.0  0.10960  0.15990  0.1974   \n",
       "3  84348301  M  11.42  20.38   77.58   386.1  0.14250  0.28390  0.2414   \n",
       "4  84358402  M  20.29  14.34  135.10  1297.0  0.10030  0.13280  0.1980   \n",
       "\n",
       "        9   ...     22     23      24      25      26      27      28      29  \\\n",
       "0  0.14710  ...  25.38  17.33  184.60  2019.0  0.1622  0.6656  0.7119  0.2654   \n",
       "1  0.07017  ...  24.99  23.41  158.80  1956.0  0.1238  0.1866  0.2416  0.1860   \n",
       "2  0.12790  ...  23.57  25.53  152.50  1709.0  0.1444  0.4245  0.4504  0.2430   \n",
       "3  0.10520  ...  14.91  26.50   98.87   567.7  0.2098  0.8663  0.6869  0.2575   \n",
       "4  0.10430  ...  22.54  16.67  152.20  1575.0  0.1374  0.2050  0.4000  0.1625   \n",
       "\n",
       "       30       31  \n",
       "0  0.4601  0.11890  \n",
       "1  0.2750  0.08902  \n",
       "2  0.3613  0.08758  \n",
       "3  0.6638  0.17300  \n",
       "4  0.2364  0.07678  \n",
       "\n",
       "[5 rows x 32 columns]"
      ]
     },
     "execution_count": 3,
     "metadata": {},
     "output_type": "execute_result"
    }
   ],
   "source": [
    "data.head()"
   ]
  },
  {
   "cell_type": "code",
   "execution_count": 4,
   "metadata": {
    "collapsed": true
   },
   "outputs": [],
   "source": [
    "data.drop(0, axis=1, inplace=True)"
   ]
  },
  {
   "cell_type": "code",
   "execution_count": 5,
   "metadata": {
    "collapsed": true
   },
   "outputs": [],
   "source": [
    "data.rename(columns={1: 'class'}, inplace=True)"
   ]
  },
  {
   "cell_type": "code",
   "execution_count": 6,
   "metadata": {},
   "outputs": [
    {
     "data": {
      "text/html": [
       "<div>\n",
       "<style scoped>\n",
       "    .dataframe tbody tr th:only-of-type {\n",
       "        vertical-align: middle;\n",
       "    }\n",
       "\n",
       "    .dataframe tbody tr th {\n",
       "        vertical-align: top;\n",
       "    }\n",
       "\n",
       "    .dataframe thead th {\n",
       "        text-align: right;\n",
       "    }\n",
       "</style>\n",
       "<table border=\"1\" class=\"dataframe\">\n",
       "  <thead>\n",
       "    <tr style=\"text-align: right;\">\n",
       "      <th></th>\n",
       "      <th>class</th>\n",
       "      <th>2</th>\n",
       "      <th>3</th>\n",
       "      <th>4</th>\n",
       "      <th>5</th>\n",
       "      <th>6</th>\n",
       "      <th>7</th>\n",
       "      <th>8</th>\n",
       "      <th>9</th>\n",
       "      <th>10</th>\n",
       "      <th>...</th>\n",
       "      <th>22</th>\n",
       "      <th>23</th>\n",
       "      <th>24</th>\n",
       "      <th>25</th>\n",
       "      <th>26</th>\n",
       "      <th>27</th>\n",
       "      <th>28</th>\n",
       "      <th>29</th>\n",
       "      <th>30</th>\n",
       "      <th>31</th>\n",
       "    </tr>\n",
       "  </thead>\n",
       "  <tbody>\n",
       "    <tr>\n",
       "      <th>0</th>\n",
       "      <td>M</td>\n",
       "      <td>17.99</td>\n",
       "      <td>10.38</td>\n",
       "      <td>122.80</td>\n",
       "      <td>1001.0</td>\n",
       "      <td>0.11840</td>\n",
       "      <td>0.27760</td>\n",
       "      <td>0.3001</td>\n",
       "      <td>0.14710</td>\n",
       "      <td>0.2419</td>\n",
       "      <td>...</td>\n",
       "      <td>25.38</td>\n",
       "      <td>17.33</td>\n",
       "      <td>184.60</td>\n",
       "      <td>2019.0</td>\n",
       "      <td>0.1622</td>\n",
       "      <td>0.6656</td>\n",
       "      <td>0.7119</td>\n",
       "      <td>0.2654</td>\n",
       "      <td>0.4601</td>\n",
       "      <td>0.11890</td>\n",
       "    </tr>\n",
       "    <tr>\n",
       "      <th>1</th>\n",
       "      <td>M</td>\n",
       "      <td>20.57</td>\n",
       "      <td>17.77</td>\n",
       "      <td>132.90</td>\n",
       "      <td>1326.0</td>\n",
       "      <td>0.08474</td>\n",
       "      <td>0.07864</td>\n",
       "      <td>0.0869</td>\n",
       "      <td>0.07017</td>\n",
       "      <td>0.1812</td>\n",
       "      <td>...</td>\n",
       "      <td>24.99</td>\n",
       "      <td>23.41</td>\n",
       "      <td>158.80</td>\n",
       "      <td>1956.0</td>\n",
       "      <td>0.1238</td>\n",
       "      <td>0.1866</td>\n",
       "      <td>0.2416</td>\n",
       "      <td>0.1860</td>\n",
       "      <td>0.2750</td>\n",
       "      <td>0.08902</td>\n",
       "    </tr>\n",
       "    <tr>\n",
       "      <th>2</th>\n",
       "      <td>M</td>\n",
       "      <td>19.69</td>\n",
       "      <td>21.25</td>\n",
       "      <td>130.00</td>\n",
       "      <td>1203.0</td>\n",
       "      <td>0.10960</td>\n",
       "      <td>0.15990</td>\n",
       "      <td>0.1974</td>\n",
       "      <td>0.12790</td>\n",
       "      <td>0.2069</td>\n",
       "      <td>...</td>\n",
       "      <td>23.57</td>\n",
       "      <td>25.53</td>\n",
       "      <td>152.50</td>\n",
       "      <td>1709.0</td>\n",
       "      <td>0.1444</td>\n",
       "      <td>0.4245</td>\n",
       "      <td>0.4504</td>\n",
       "      <td>0.2430</td>\n",
       "      <td>0.3613</td>\n",
       "      <td>0.08758</td>\n",
       "    </tr>\n",
       "    <tr>\n",
       "      <th>3</th>\n",
       "      <td>M</td>\n",
       "      <td>11.42</td>\n",
       "      <td>20.38</td>\n",
       "      <td>77.58</td>\n",
       "      <td>386.1</td>\n",
       "      <td>0.14250</td>\n",
       "      <td>0.28390</td>\n",
       "      <td>0.2414</td>\n",
       "      <td>0.10520</td>\n",
       "      <td>0.2597</td>\n",
       "      <td>...</td>\n",
       "      <td>14.91</td>\n",
       "      <td>26.50</td>\n",
       "      <td>98.87</td>\n",
       "      <td>567.7</td>\n",
       "      <td>0.2098</td>\n",
       "      <td>0.8663</td>\n",
       "      <td>0.6869</td>\n",
       "      <td>0.2575</td>\n",
       "      <td>0.6638</td>\n",
       "      <td>0.17300</td>\n",
       "    </tr>\n",
       "    <tr>\n",
       "      <th>4</th>\n",
       "      <td>M</td>\n",
       "      <td>20.29</td>\n",
       "      <td>14.34</td>\n",
       "      <td>135.10</td>\n",
       "      <td>1297.0</td>\n",
       "      <td>0.10030</td>\n",
       "      <td>0.13280</td>\n",
       "      <td>0.1980</td>\n",
       "      <td>0.10430</td>\n",
       "      <td>0.1809</td>\n",
       "      <td>...</td>\n",
       "      <td>22.54</td>\n",
       "      <td>16.67</td>\n",
       "      <td>152.20</td>\n",
       "      <td>1575.0</td>\n",
       "      <td>0.1374</td>\n",
       "      <td>0.2050</td>\n",
       "      <td>0.4000</td>\n",
       "      <td>0.1625</td>\n",
       "      <td>0.2364</td>\n",
       "      <td>0.07678</td>\n",
       "    </tr>\n",
       "  </tbody>\n",
       "</table>\n",
       "<p>5 rows × 31 columns</p>\n",
       "</div>"
      ],
      "text/plain": [
       "  class      2      3       4       5        6        7       8        9  \\\n",
       "0     M  17.99  10.38  122.80  1001.0  0.11840  0.27760  0.3001  0.14710   \n",
       "1     M  20.57  17.77  132.90  1326.0  0.08474  0.07864  0.0869  0.07017   \n",
       "2     M  19.69  21.25  130.00  1203.0  0.10960  0.15990  0.1974  0.12790   \n",
       "3     M  11.42  20.38   77.58   386.1  0.14250  0.28390  0.2414  0.10520   \n",
       "4     M  20.29  14.34  135.10  1297.0  0.10030  0.13280  0.1980  0.10430   \n",
       "\n",
       "       10  ...     22     23      24      25      26      27      28      29  \\\n",
       "0  0.2419  ...  25.38  17.33  184.60  2019.0  0.1622  0.6656  0.7119  0.2654   \n",
       "1  0.1812  ...  24.99  23.41  158.80  1956.0  0.1238  0.1866  0.2416  0.1860   \n",
       "2  0.2069  ...  23.57  25.53  152.50  1709.0  0.1444  0.4245  0.4504  0.2430   \n",
       "3  0.2597  ...  14.91  26.50   98.87   567.7  0.2098  0.8663  0.6869  0.2575   \n",
       "4  0.1809  ...  22.54  16.67  152.20  1575.0  0.1374  0.2050  0.4000  0.1625   \n",
       "\n",
       "       30       31  \n",
       "0  0.4601  0.11890  \n",
       "1  0.2750  0.08902  \n",
       "2  0.3613  0.08758  \n",
       "3  0.6638  0.17300  \n",
       "4  0.2364  0.07678  \n",
       "\n",
       "[5 rows x 31 columns]"
      ]
     },
     "execution_count": 6,
     "metadata": {},
     "output_type": "execute_result"
    }
   ],
   "source": [
    "data.head()"
   ]
  },
  {
   "cell_type": "code",
   "execution_count": 7,
   "metadata": {
    "collapsed": true
   },
   "outputs": [],
   "source": [
    "\n",
    "from sklearn.model_selection import StratifiedShuffleSplit\n",
    "from sklearn.preprocessing import StandardScaler\n",
    "def split_data(X,y, test_percentage, random_state=None):\n",
    "    sss = StratifiedShuffleSplit(n_splits=1, test_size=test_percentage, random_state=random_state)\n",
    "    #sss.get_n_splits(X, y)\n",
    "    \n",
    "    for train_index, test_index in sss.split(X, y):\n",
    "        X_train, X_test = X.iloc[train_index,:], X.iloc[test_index,:]\n",
    "        y_train, y_test = y.iloc[train_index], y.iloc[test_index]\n",
    "        X_train = X_train.reset_index(drop=True)\n",
    "        y_train = y_train.reset_index(drop=True)\n",
    "        X_test = X_test.reset_index(drop=True)\n",
    "        y_test = y_test.reset_index(drop=True)\n",
    "    \n",
    "    \n",
    "    return X_train, X_test, y_train, y_test"
   ]
  },
  {
   "cell_type": "markdown",
   "metadata": {},
   "source": [
    "(b) Monte-Carlo Simulation: Repeat the following procedures for supervised, un- supervised, and semi-supervised learning M = 30 times, and use randomly selected train and test data (make sure you use 20% of both the positve and nega- tive classes as the test set). Then compare the average scores (accuracy, precision, recall, F1-score, and AUC) that you obtain from each algorithm"
   ]
  },
  {
   "cell_type": "markdown",
   "metadata": {},
   "source": [
    "# i. Supervised Learning"
   ]
  },
  {
   "cell_type": "code",
   "execution_count": 8,
   "metadata": {
    "collapsed": true
   },
   "outputs": [],
   "source": [
    "#normailze dataset_x\n",
    "from sklearn.preprocessing import normalize\n",
    "\n",
    "data_X = data.iloc[:,1:]\n",
    "data_y = data[\"class\"].apply(lambda x: 1 if x == 'M' else 0)\n",
    "norm_X = pd.DataFrame(normalize(data_X))"
   ]
  },
  {
   "cell_type": "code",
   "execution_count": 9,
   "metadata": {
    "collapsed": true
   },
   "outputs": [],
   "source": [
    "from sklearn.model_selection import KFold\n",
    "from sklearn.pipeline import Pipeline \n",
    "from sklearn.model_selection import GridSearchCV\n",
    "import warnings\n",
    "warnings.filterwarnings('ignore')\n"
   ]
  },
  {
   "cell_type": "code",
   "execution_count": 10,
   "metadata": {
    "collapsed": true
   },
   "outputs": [],
   "source": [
    "###L1-penalized Linear SVM, since we alread standardized the features we can use it directly ###\n",
    "\n",
    "from sklearn.linear_model import SGDClassifier \n",
    "from hyperopt import fmin, tpe, hp, STATUS_OK, Trials\n",
    "from sklearn.svm import SVC\n",
    "from sklearn.model_selection import cross_val_score\n",
    "\n",
    "\n",
    "def l1_bey_lisvm():\n",
    "    \n",
    "    ###set up space dictionary with specified hyperparameters\n",
    "    space = {'alpha'     : hp.loguniform('alpha', -10, 0),}\n",
    "    \n",
    "    def fc(params):\n",
    "        clf = SGDClassifier(**params,penalty='l1',early_stopping= True,n_jobs=-1) \n",
    "        best_score = cross_val_score(clf, X_train, y_train, cv=5, \n",
    "                                     scoring='accuracy', n_jobs=-1).mean() # 5-fold cv\n",
    "        return 1- best_score\n",
    "\n",
    "    \n",
    "    trials = Trials()\n",
    "    # Run the algorithm\n",
    "    best = fmin(fn=fc,\n",
    "                space=space, \n",
    "                max_evals=100, # Control how many evaluations to take\n",
    "                algo=tpe.suggest,\n",
    "                trials = trials)\n",
    "    \n",
    "    return best"
   ]
  },
  {
   "cell_type": "code",
   "execution_count": 11,
   "metadata": {
    "collapsed": true
   },
   "outputs": [],
   "source": [
    "def refit_model():\n",
    "    \n",
    "    \n",
    "    ### train the data using beyies and get the best params \n",
    "    best_params = l1_bey_lisvm()\n",
    "    \n",
    "    ### refit the model using best params \n",
    "   \n",
    "    l1_lin_svm = SGDClassifier(**best_params,penalty='l1',early_stopping= True,n_jobs=-1)  \n",
    "    l1_lin_svm.fit(X_train, y_train)\n",
    "    \n",
    "    ### predict X_train  and X_test\n",
    "    y_pred_train = l1_lin_svm.predict(X_train)\n",
    "    y_pred_test = l1_lin_svm.predict(X_test)\n",
    "    \n",
    "    ### get the prob \n",
    "    y_pred_train_prob = l1_lin_svm.decision_function(X_train)\n",
    "    y_pred_test_prob = l1_lin_svm.decision_function(X_test)\n",
    "    \n",
    "    #svc.fit(norm_X_train, y_train)\n",
    "    \n",
    "    return y_pred_train, y_pred_test, y_pred_train_prob, y_pred_test_prob"
   ]
  },
  {
   "cell_type": "code",
   "execution_count": 12,
   "metadata": {
    "collapsed": true
   },
   "outputs": [],
   "source": [
    "from sklearn.metrics import confusion_matrix, roc_auc_score, roc_curve, classification_report\n",
    "def supervised_learning():\n",
    "    info_result = list()\n",
    "\n",
    "    \n",
    "    ### recall the fucntion refit_model using best params \n",
    "    y_pred_train, y_pred_test, y_pred_train_prob, y_pred_test_prob = refit_model()\n",
    "    \n",
    "    # Append the train results accordingly\n",
    "    train_report = classification_report(y_train, y_pred_train, output_dict=True)\n",
    "    train_weighted_avg = train_report['weighted avg']\n",
    "    auc_train = roc_auc_score(y_train, y_pred_train_prob)\n",
    "    info_result.append(train_report['accuracy'])\n",
    "    info_result.append(train_weighted_avg['precision'])\n",
    "    info_result.append(train_weighted_avg['recall'])\n",
    "    info_result.append(train_weighted_avg['f1-score'])\n",
    "    info_result.append(auc_train)\n",
    "    \n",
    "    ### Append the test results accordingly \n",
    "    test_report = classification_report(y_test, y_pred_test, output_dict=True)\n",
    "    test_weighted_avg = test_report['weighted avg']\n",
    "    auc_test = roc_auc_score(y_test, y_pred_test_prob)\n",
    "    info_result.append(test_report['accuracy'])\n",
    "    info_result.append(test_weighted_avg['precision'])\n",
    "    info_result.append(test_weighted_avg['recall'])\n",
    "    info_result.append(test_weighted_avg['f1-score'])\n",
    "    info_result.append(auc_test)\n",
    "    \n",
    "    return info_result\n",
    "    \n",
    "    "
   ]
  },
  {
   "cell_type": "markdown",
   "metadata": {},
   "source": [
    "# Monte-Carlo Simulation for Supervised Learning"
   ]
  },
  {
   "cell_type": "code",
   "execution_count": 13,
   "metadata": {},
   "outputs": [
    {
     "name": "stdout",
     "output_type": "stream",
     "text": [
      "100%|██████████| 100/100 [00:10<00:00,  9.91trial/s, best loss: 0.08131868131868136]\n",
      "100%|██████████| 100/100 [00:06<00:00, 15.76trial/s, best loss: 0.07912087912087906]\n",
      "100%|██████████| 100/100 [00:05<00:00, 16.71trial/s, best loss: 0.09230769230769231]\n",
      "100%|██████████| 100/100 [00:05<00:00, 16.80trial/s, best loss: 0.09670329670329669]\n",
      "100%|██████████| 100/100 [00:05<00:00, 16.76trial/s, best loss: 0.08571428571428574]\n",
      "100%|██████████| 100/100 [00:05<00:00, 16.96trial/s, best loss: 0.10109890109890107]\n",
      "100%|██████████| 100/100 [00:05<00:00, 16.89trial/s, best loss: 0.08571428571428574]\n",
      "100%|██████████| 100/100 [00:06<00:00, 16.55trial/s, best loss: 0.07912087912087906]\n",
      "100%|██████████| 100/100 [00:06<00:00, 16.65trial/s, best loss: 0.09670329670329669]\n",
      "100%|██████████| 100/100 [00:05<00:00, 16.71trial/s, best loss: 0.08131868131868136]\n",
      "complete 1/3\n",
      "100%|██████████| 100/100 [00:05<00:00, 17.00trial/s, best loss: 0.08351648351648355]\n",
      "100%|██████████| 100/100 [00:05<00:00, 16.96trial/s, best loss: 0.08571428571428574]\n",
      "100%|██████████| 100/100 [00:05<00:00, 17.26trial/s, best loss: 0.09010989010989012]\n",
      "100%|██████████| 100/100 [00:06<00:00, 16.64trial/s, best loss: 0.08791208791208793]\n",
      "100%|██████████| 100/100 [00:06<00:00, 16.25trial/s, best loss: 0.09670329670329669]\n",
      "100%|██████████| 100/100 [00:06<00:00, 15.89trial/s, best loss: 0.08791208791208782]\n",
      "100%|██████████| 100/100 [00:07<00:00, 13.09trial/s, best loss: 0.08791208791208782]\n",
      "100%|██████████| 100/100 [00:07<00:00, 13.06trial/s, best loss: 0.08351648351648355]\n",
      "100%|██████████| 100/100 [00:09<00:00, 10.31trial/s, best loss: 0.0945054945054945]\n",
      "100%|██████████| 100/100 [00:08<00:00, 12.10trial/s, best loss: 0.08351648351648355]\n",
      "complete 2/3\n",
      "100%|██████████| 100/100 [00:10<00:00,  9.76trial/s, best loss: 0.08791208791208793]\n",
      "100%|██████████| 100/100 [00:08<00:00, 11.71trial/s, best loss: 0.08791208791208782]\n",
      "100%|██████████| 100/100 [00:08<00:00, 11.50trial/s, best loss: 0.0945054945054945]\n",
      "100%|██████████| 100/100 [00:07<00:00, 13.77trial/s, best loss: 0.08351648351648355]\n",
      "100%|██████████| 100/100 [00:07<00:00, 12.98trial/s, best loss: 0.09230769230769231]\n",
      "100%|██████████| 100/100 [00:07<00:00, 13.63trial/s, best loss: 0.07912087912087906]\n",
      "100%|██████████| 100/100 [00:07<00:00, 14.16trial/s, best loss: 0.09010989010989012]\n",
      "100%|██████████| 100/100 [00:07<00:00, 12.82trial/s, best loss: 0.08571428571428563]\n",
      "100%|██████████| 100/100 [00:07<00:00, 14.15trial/s, best loss: 0.09670329670329669]\n",
      "100%|██████████| 100/100 [00:06<00:00, 14.91trial/s, best loss: 0.09230769230769231]\n"
     ]
    }
   ],
   "source": [
    "\n",
    "col_name = ['train_accuracy', 'train_precision', 'train_recall', 'train_f1_score', \n",
    "       'train_auc', 'test_accuracy', 'test_precision', \n",
    "       'test_recall', 'test_f1_score', 'test_auc']\n",
    "\n",
    "supervised_result = pd.DataFrame(columns=col_name, index=range(30))\n",
    "\n",
    "\n",
    "for i in range(30):\n",
    "    \n",
    "    ### randomly split the data with 20% positive and 20% negative test set \n",
    "    ### get the random state randomly to perform random split each time \n",
    "    rand_int = np.random.randint(1e9)\n",
    "    X_train, X_test, y_train, y_test = split_data(norm_X,data_y,0.2,rand_int)\n",
    "    \n",
    "    if i == 10:\n",
    "        print(\"complete 1/3\")\n",
    "        \n",
    "    elif i == 20:\n",
    "        print(\"complete 2/3\")\n",
    "        \n",
    "    elif i == 30:\n",
    "        print(\"complete\")\n",
    "    \n",
    "    ### get the info \n",
    "    info = supervised_learning()\n",
    "    \n",
    "    \n",
    "    supervised_result.loc[i] = info\n",
    "        "
   ]
  },
  {
   "cell_type": "code",
   "execution_count": 15,
   "metadata": {},
   "outputs": [
    {
     "name": "stdout",
     "output_type": "stream",
     "text": [
      "after M=30 simulations The report of Supersived Learning:\n"
     ]
    },
    {
     "data": {
      "text/plain": [
       "train_accuracy     0.904469\n",
       "train_precision    0.908416\n",
       "train_recall       0.904469\n",
       "train_f1_score     0.902680\n",
       "train_auc          0.962769\n",
       "test_accuracy      0.907018\n",
       "test_precision     0.910501\n",
       "test_recall        0.907018\n",
       "test_f1_score      0.905631\n",
       "test_auc           0.968629\n",
       "dtype: float64"
      ]
     },
     "execution_count": 15,
     "metadata": {},
     "output_type": "execute_result"
    }
   ],
   "source": [
    "print(\"after M=30 simulations The report of Supersived Learning:\")\n",
    "supervised_result.mean()"
   ]
  },
  {
   "cell_type": "markdown",
   "metadata": {},
   "source": [
    "# Plot the ROC and report the confusion matrix for training and testing in one of the runs"
   ]
  },
  {
   "cell_type": "code",
   "execution_count": 16,
   "metadata": {},
   "outputs": [
    {
     "name": "stdout",
     "output_type": "stream",
     "text": [
      "100%|██████████| 100/100 [00:06<00:00, 15.41trial/s, best loss: 0.09230769230769231]\n"
     ]
    }
   ],
   "source": [
    "X_train, X_test, y_train, y_test = split_data(norm_X,data_y,0.2)\n",
    "\n",
    "### refit_model using best params \n",
    "y_pred_train, y_pred_test, y_pred_train_prob, y_pred_test_prob = refit_model()\n",
    "\n",
    "### get confusion metrix table for train and test \n",
    "train_cm = pd.DataFrame(confusion_matrix(y_train, y_pred_train), columns= [\"Predict No\", \"Predict Yes\"],\n",
    "                        index = [\"Actual No\", \"Actual Yes\"] )\n",
    "test_cm = pd.DataFrame(confusion_matrix(y_test, y_pred_test), columns= [\"Predict No\", \"Predict Yes\"],\n",
    "                        index = [\"Actual No\", \"Actual Yes\"] )"
   ]
  },
  {
   "cell_type": "code",
   "execution_count": 17,
   "metadata": {},
   "outputs": [
    {
     "name": "stdout",
     "output_type": "stream",
     "text": [
      "training confusion matrix\n"
     ]
    },
    {
     "data": {
      "text/html": [
       "<div>\n",
       "<style scoped>\n",
       "    .dataframe tbody tr th:only-of-type {\n",
       "        vertical-align: middle;\n",
       "    }\n",
       "\n",
       "    .dataframe tbody tr th {\n",
       "        vertical-align: top;\n",
       "    }\n",
       "\n",
       "    .dataframe thead th {\n",
       "        text-align: right;\n",
       "    }\n",
       "</style>\n",
       "<table border=\"1\" class=\"dataframe\">\n",
       "  <thead>\n",
       "    <tr style=\"text-align: right;\">\n",
       "      <th></th>\n",
       "      <th>Predict No</th>\n",
       "      <th>Predict Yes</th>\n",
       "    </tr>\n",
       "  </thead>\n",
       "  <tbody>\n",
       "    <tr>\n",
       "      <th>Actual No</th>\n",
       "      <td>272</td>\n",
       "      <td>13</td>\n",
       "    </tr>\n",
       "    <tr>\n",
       "      <th>Actual Yes</th>\n",
       "      <td>32</td>\n",
       "      <td>138</td>\n",
       "    </tr>\n",
       "  </tbody>\n",
       "</table>\n",
       "</div>"
      ],
      "text/plain": [
       "            Predict No  Predict Yes\n",
       "Actual No          272           13\n",
       "Actual Yes          32          138"
      ]
     },
     "execution_count": 17,
     "metadata": {},
     "output_type": "execute_result"
    }
   ],
   "source": [
    "### train confusion matrix\n",
    "print(\"training confusion matrix\")\n",
    "train_cm"
   ]
  },
  {
   "cell_type": "code",
   "execution_count": 18,
   "metadata": {},
   "outputs": [
    {
     "name": "stdout",
     "output_type": "stream",
     "text": [
      "test confusion matrix\n"
     ]
    },
    {
     "data": {
      "text/html": [
       "<div>\n",
       "<style scoped>\n",
       "    .dataframe tbody tr th:only-of-type {\n",
       "        vertical-align: middle;\n",
       "    }\n",
       "\n",
       "    .dataframe tbody tr th {\n",
       "        vertical-align: top;\n",
       "    }\n",
       "\n",
       "    .dataframe thead th {\n",
       "        text-align: right;\n",
       "    }\n",
       "</style>\n",
       "<table border=\"1\" class=\"dataframe\">\n",
       "  <thead>\n",
       "    <tr style=\"text-align: right;\">\n",
       "      <th></th>\n",
       "      <th>Predict No</th>\n",
       "      <th>Predict Yes</th>\n",
       "    </tr>\n",
       "  </thead>\n",
       "  <tbody>\n",
       "    <tr>\n",
       "      <th>Actual No</th>\n",
       "      <td>72</td>\n",
       "      <td>0</td>\n",
       "    </tr>\n",
       "    <tr>\n",
       "      <th>Actual Yes</th>\n",
       "      <td>8</td>\n",
       "      <td>34</td>\n",
       "    </tr>\n",
       "  </tbody>\n",
       "</table>\n",
       "</div>"
      ],
      "text/plain": [
       "            Predict No  Predict Yes\n",
       "Actual No           72            0\n",
       "Actual Yes           8           34"
      ]
     },
     "execution_count": 18,
     "metadata": {},
     "output_type": "execute_result"
    }
   ],
   "source": [
    "print(\"test confusion matrix\")\n",
    "test_cm"
   ]
  },
  {
   "cell_type": "code",
   "execution_count": 19,
   "metadata": {},
   "outputs": [
    {
     "data": {
      "image/png": "[encoded data removed]",
      "text/plain": [
       "<Figure size 432x288 with 1 Axes>"
      ]
     },
     "metadata": {},
     "output_type": "display_data"
    }
   ],
   "source": [
    "### get the fpr tpr thresholds \n",
    "train_fpr, train_tpr, train_thresholds = roc_curve(y_train, y_pred_train_prob)\n",
    "test_fpr, test_tpr, test_thresholds = roc_curve(y_test, y_pred_test_prob)\n",
    "\n",
    "### plot the roc \n",
    "import matplotlib.pyplot as plt\n",
    "plt.plot(train_fpr, train_tpr, label='train ROC curve')\n",
    "plt.plot(test_fpr, test_tpr, label='test ROC curve')\n",
    "plt.title('ROC curve for both train and test')\n",
    "plt.xlabel('False Positive Rate')\n",
    "plt.ylabel('True Positive Rate')\n",
    "plt.legend()\n",
    "plt.show()"
   ]
  },
  {
   "cell_type": "markdown",
   "metadata": {},
   "source": [
    "# ii. Semi-Supervised Learning/ Self-training"
   ]
  },
  {
   "cell_type": "markdown",
   "metadata": {
    "collapsed": true
   },
   "source": [
    "A. Train an L1-penalized SVM to classify the labeled data Use normalized data. Choose the penalty parameter using 5 fold cross validation."
   ]
  },
  {
   "cell_type": "code",
   "execution_count": 20,
   "metadata": {
    "collapsed": true
   },
   "outputs": [],
   "source": [
    "import warnings\n",
    "warnings.filterwarnings('ignore')"
   ]
  },
  {
   "cell_type": "code",
   "execution_count": 21,
   "metadata": {
    "collapsed": true
   },
   "outputs": [],
   "source": [
    "###L1-penalized Linear SVM, since we alread standardized the features we can use it directly ###\n",
    "\n",
    "from sklearn.linear_model import SGDClassifier \n",
    "from hyperopt import fmin, tpe, hp, STATUS_OK, Trials\n",
    "from sklearn.svm import SVC\n",
    "from sklearn.model_selection import cross_val_score\n",
    "\n",
    "\n",
    "def l1_bey2_lisvm():\n",
    "    \n",
    "    ###set up space dictionary with specified hyperparameters\n",
    "    space = {'alpha'     : hp.loguniform('alpha', -12, 0),}\n",
    "    \n",
    "    def fc(params):\n",
    "        clf = SGDClassifier(**params,penalty='l1',early_stopping= True,n_jobs=-1) \n",
    "        best_score = cross_val_score(clf, X_train, y_train, cv=5, \n",
    "                                     scoring='accuracy', n_jobs=-1).mean() # 5-fold cv\n",
    "        return 1- best_score\n",
    "\n",
    "    \n",
    "    trials = Trials()\n",
    "    # Run the algorithm\n",
    "    best = fmin(fn=fc,\n",
    "                space=space, \n",
    "                max_evals=100, # Control how many evaluations to take\n",
    "                algo=tpe.suggest,\n",
    "                trials = trials)\n",
    "    \n",
    "    return best"
   ]
  },
  {
   "cell_type": "code",
   "execution_count": 22,
   "metadata": {
    "collapsed": true
   },
   "outputs": [],
   "source": [
    "def retrain_model(X_train,y_train, unlabeled):\n",
    "    \n",
    "    \n",
    "    ### get the best params by using optimalization bayes to find optimal alpha \n",
    "    best_params = l1_bey2_lisvm()\n",
    "    ### refit the model using best params \n",
    "    lin_svc = SGDClassifier(**best_params,penalty='l1',early_stopping= True,n_jobs=-1)  \n",
    "    lin_svc.fit(X_train, y_train)\n",
    "    \n",
    "    \n",
    "    while len(unlabeled) > 0: ### if there're still unlabeled data \n",
    "    \n",
    "        # Get distance to hyperplanes for unlabelled data\n",
    "        hyperplane_dist = lin_svc.decision_function(unlabeled)\n",
    "        \n",
    "        ### get the furthest unlabeled point index \n",
    "        abs_dist = np.abs(hyperplane_dist)\n",
    "        max_idx = abs_dist.argmax() \n",
    "        \n",
    "        #### Assign new y to 1 if the distance to the hyperplane is positive, otherwise, assign it to 0 \n",
    "        new_y = np.where(hyperplane_dist[max_idx] >= 0, 1, 0)\n",
    "        \n",
    "        ###add this newly assigned data to training set\n",
    "        X_train = np.vstack([X_train, unlabeled.iloc[max_idx,:]])\n",
    "        y_train = np.append(y_train, new_y)\n",
    "        ### drop the newly labeled data from unlabeled set \n",
    "        unlabeled = unlabeled.drop(unlabeled.index[max_idx]) \n",
    "        ### then refit the data using newly train_x\n",
    "        lin_svc.fit(X_train, y_train) \n",
    "    #---------------------------------------#  \n",
    "        \n",
    "    ### using final svc to test on train and test set \n",
    "    ### predict X_train  and X_test\n",
    "    y_pred_train = lin_svc.predict(X_train)\n",
    "    y_pred_test = lin_svc.predict(X_test)\n",
    "    \n",
    "    ### get the prob \n",
    "    y_pred_train_prob = lin_svc.decision_function(X_train)\n",
    "    y_pred_test_prob = lin_svc.decision_function(X_test)\n",
    "    \n",
    "    \n",
    "    return y_pred_train, y_pred_test, y_pred_train_prob, y_pred_test_prob, y_train"
   ]
  },
  {
   "cell_type": "code",
   "execution_count": 23,
   "metadata": {
    "collapsed": true
   },
   "outputs": [],
   "source": [
    "from sklearn.metrics import confusion_matrix, roc_auc_score, roc_curve, classification_report\n",
    "def semi_supervised_learning():\n",
    "    info_result = list()\n",
    "    \n",
    "    ### recall the fucntion refit_model using best params \n",
    "    y_pred_train, y_pred_test, y_pred_train_prob, y_pred_test_prob, updated_y_train = retrain_model(X_train,y_train, unlabeled)\n",
    "    \n",
    "    # Append the train results accordingly\n",
    "    train_report = classification_report(updated_y_train, y_pred_train, output_dict=True)\n",
    "    train_weighted_avg = train_report['weighted avg']\n",
    "    auc_train = roc_auc_score(updated_y_train, y_pred_train_prob)\n",
    "    info_result.append(train_report['accuracy'])\n",
    "    info_result.append(train_weighted_avg['precision'])\n",
    "    info_result.append(train_weighted_avg['recall'])\n",
    "    info_result.append(train_weighted_avg['f1-score'])\n",
    "    info_result.append(auc_train)\n",
    "    \n",
    "    ### Append the test results accordingly \n",
    "    test_report = classification_report(y_test, y_pred_test, output_dict=True)\n",
    "    test_weighted_avg = test_report['weighted avg']\n",
    "    auc_test = roc_auc_score(y_test, y_pred_test_prob)\n",
    "    info_result.append(test_report['accuracy'])\n",
    "    info_result.append(test_weighted_avg['precision'])\n",
    "    info_result.append(test_weighted_avg['recall'])\n",
    "    info_result.append(test_weighted_avg['f1-score'])\n",
    "    info_result.append(auc_test)\n",
    "    \n",
    "    return info_result\n",
    "    \n",
    "    "
   ]
  },
  {
   "cell_type": "markdown",
   "metadata": {},
   "source": [
    "# Monte-Carlo Simulation for Semi-Supervised Learning"
   ]
  },
  {
   "cell_type": "code",
   "execution_count": 24,
   "metadata": {},
   "outputs": [
    {
     "name": "stdout",
     "output_type": "stream",
     "text": [
      "100%|██████████| 100/100 [00:05<00:00, 16.87trial/s, best loss: 0.07487922705314021]\n",
      "100%|██████████| 100/100 [00:06<00:00, 15.90trial/s, best loss: 0.09700483091787437]\n",
      "100%|██████████| 100/100 [00:06<00:00, 15.51trial/s, best loss: 0.08811594202898543]\n",
      "100%|██████████| 100/100 [00:07<00:00, 13.50trial/s, best loss: 0.07932367149758457]\n",
      "100%|██████████| 100/100 [00:06<00:00, 15.48trial/s, best loss: 0.07062801932367146]\n",
      "100%|██████████| 100/100 [00:06<00:00, 16.06trial/s, best loss: 0.061835748792270495]\n",
      "100%|██████████| 100/100 [00:06<00:00, 15.96trial/s, best loss: 0.05265700483091784]\n",
      "100%|██████████| 100/100 [00:05<00:00, 17.88trial/s, best loss: 0.07961352657004839]\n",
      "100%|██████████| 100/100 [00:05<00:00, 17.60trial/s, best loss: 0.07072463768115933]\n",
      "100%|██████████| 100/100 [00:05<00:00, 17.72trial/s, best loss: 0.07526570048309167]\n",
      "complete 1/3\n",
      "100%|██████████| 100/100 [00:05<00:00, 17.49trial/s, best loss: 0.08405797101449275]\n",
      "100%|██████████| 100/100 [00:05<00:00, 17.84trial/s, best loss: 0.057584541062801975]\n",
      "100%|██████████| 100/100 [00:05<00:00, 17.81trial/s, best loss: 0.04850241545893719]\n",
      "100%|██████████| 100/100 [00:06<00:00, 15.77trial/s, best loss: 0.07932367149758457]\n",
      "100%|██████████| 100/100 [00:06<00:00, 15.14trial/s, best loss: 0.09690821256038651]\n",
      "100%|██████████| 100/100 [00:07<00:00, 13.98trial/s, best loss: 0.09236714975845417]\n",
      "100%|██████████| 100/100 [00:06<00:00, 16.58trial/s, best loss: 0.07487922705313999]\n",
      "100%|██████████| 100/100 [00:05<00:00, 16.87trial/s, best loss: 0.07913043478260862]\n",
      "100%|██████████| 100/100 [00:05<00:00, 17.23trial/s, best loss: 0.07922705314009648]\n",
      "100%|██████████| 100/100 [00:06<00:00, 16.58trial/s, best loss: 0.07922705314009659]\n",
      "complete 2/3\n",
      "100%|██████████| 100/100 [00:05<00:00, 17.13trial/s, best loss: 0.08386473429951702]\n",
      "100%|██████████| 100/100 [00:06<00:00, 14.42trial/s, best loss: 0.09671497584541056]\n",
      "100%|██████████| 100/100 [00:06<00:00, 15.84trial/s, best loss: 0.08367149758454107]\n",
      "100%|██████████| 100/100 [00:06<00:00, 16.43trial/s, best loss: 0.07903381642512086]\n",
      "100%|██████████| 100/100 [00:05<00:00, 17.71trial/s, best loss: 0.05285024154589357]\n",
      "100%|██████████| 100/100 [00:05<00:00, 17.34trial/s, best loss: 0.0972946859903383]\n",
      "100%|██████████| 100/100 [00:06<00:00, 16.08trial/s, best loss: 0.07903381642512086]\n",
      "100%|██████████| 100/100 [00:05<00:00, 17.30trial/s, best loss: 0.08772946859903397]\n",
      "100%|██████████| 100/100 [00:06<00:00, 14.80trial/s, best loss: 0.07903381642512086]\n",
      "100%|██████████| 100/100 [00:06<00:00, 15.72trial/s, best loss: 0.08396135265700477]\n"
     ]
    }
   ],
   "source": [
    "\n",
    "col_name = ['train_accuracy', 'train_precision', 'train_recall', 'train_f1_score', \n",
    "       'train_auc', 'test_accuracy', 'test_precision', \n",
    "       'test_recall', 'test_f1_score', 'test_auc']\n",
    "\n",
    "semi_supervised_result = pd.DataFrame(columns=col_name, index=range(30))\n",
    "\n",
    "### first divide wholw dataset into training and test set \n",
    "training_x, X_test, training_y, y_test = split_data(norm_X,data_y,0.2,42)\n",
    "for i in range(30):\n",
    "    \n",
    "    rand_int = np.random.randint(1e9)\n",
    "    \n",
    "    ### randomly split the data with 50% positive and 50% negative as labeled using training set \n",
    "    ### get the random state randomly to perform random split each time \n",
    "    X_train, unlabeled, y_train, _ = split_data(training_x, training_y, 0.5, rand_int)\n",
    "    \n",
    "    if i == 10:\n",
    "        print(\"complete 1/3\")\n",
    "        \n",
    "    elif i == 20:\n",
    "        print(\"complete 2/3\")\n",
    "        \n",
    "    elif i == 30:\n",
    "        print(\"complete\")\n",
    "    \n",
    "    ### get the info \n",
    "    info = semi_supervised_learning()\n",
    "    \n",
    "    \n",
    "    semi_supervised_result.loc[i] = info\n",
    "        "
   ]
  },
  {
   "cell_type": "code",
   "execution_count": 25,
   "metadata": {},
   "outputs": [
    {
     "name": "stdout",
     "output_type": "stream",
     "text": [
      "after m=30 simulations The report of Semi-Supersived Learning:\n"
     ]
    },
    {
     "data": {
      "text/plain": [
       "train_accuracy     0.906081\n",
       "train_precision    0.933216\n",
       "train_recall       0.906081\n",
       "train_f1_score     0.897708\n",
       "train_auc          0.978878\n",
       "test_accuracy      0.849708\n",
       "test_precision     0.884534\n",
       "test_recall        0.849708\n",
       "test_f1_score      0.837186\n",
       "test_auc           0.947994\n",
       "dtype: float64"
      ]
     },
     "execution_count": 25,
     "metadata": {},
     "output_type": "execute_result"
    }
   ],
   "source": [
    "print(\"after m=30 simulations The report of Semi-Supersived Learning:\")\n",
    "semi_supervised_result.mean()"
   ]
  },
  {
   "cell_type": "markdown",
   "metadata": {},
   "source": [
    "# Plot the ROC and report the confusion matrix for training and testing in one of the runs"
   ]
  },
  {
   "cell_type": "code",
   "execution_count": 26,
   "metadata": {},
   "outputs": [
    {
     "name": "stdout",
     "output_type": "stream",
     "text": [
      "100%|██████████| 100/100 [00:05<00:00, 16.92trial/s, best loss: 0.06628019323671486]\n"
     ]
    }
   ],
   "source": [
    "\n",
    "#------one of run ----------#\n",
    "### first divide wholw dataset into training and test set \n",
    "training_x, X_test, training_y, y_test = split_data(norm_X,data_y,0.2,42)\n",
    "\n",
    "\n",
    "X_train, unlabeled, y_train, _ = split_data(training_x, training_y, 0.5)\n",
    "\n",
    "### retrain_model for unlabeled data \n",
    "y_pred_train, y_pred_test, y_pred_train_prob, y_pred_test_prob, updated_y_train = retrain_model(X_train,y_train, unlabeled)\n",
    "\n",
    "### get confusion metrix table for train and test \n",
    "semi_train_cm = pd.DataFrame(confusion_matrix(updated_y_train, y_pred_train), columns= [\"Predict No\", \"Predict Yes\"],\n",
    "                        index = [\"Actual No\", \"Actual Yes\"] )\n",
    "semi_test_cm = pd.DataFrame(confusion_matrix(y_test, y_pred_test), columns= [\"Predict No\", \"Predict Yes\"],\n",
    "                        index = [\"Actual No\", \"Actual Yes\"] )"
   ]
  },
  {
   "cell_type": "code",
   "execution_count": 27,
   "metadata": {},
   "outputs": [
    {
     "name": "stdout",
     "output_type": "stream",
     "text": [
      "training confusion matrix for semi_supervised learning\n"
     ]
    },
    {
     "data": {
      "text/html": [
       "<div>\n",
       "<style scoped>\n",
       "    .dataframe tbody tr th:only-of-type {\n",
       "        vertical-align: middle;\n",
       "    }\n",
       "\n",
       "    .dataframe tbody tr th {\n",
       "        vertical-align: top;\n",
       "    }\n",
       "\n",
       "    .dataframe thead th {\n",
       "        text-align: right;\n",
       "    }\n",
       "</style>\n",
       "<table border=\"1\" class=\"dataframe\">\n",
       "  <thead>\n",
       "    <tr style=\"text-align: right;\">\n",
       "      <th></th>\n",
       "      <th>Predict No</th>\n",
       "      <th>Predict Yes</th>\n",
       "    </tr>\n",
       "  </thead>\n",
       "  <tbody>\n",
       "    <tr>\n",
       "      <th>Actual No</th>\n",
       "      <td>302</td>\n",
       "      <td>2</td>\n",
       "    </tr>\n",
       "    <tr>\n",
       "      <th>Actual Yes</th>\n",
       "      <td>14</td>\n",
       "      <td>137</td>\n",
       "    </tr>\n",
       "  </tbody>\n",
       "</table>\n",
       "</div>"
      ],
      "text/plain": [
       "            Predict No  Predict Yes\n",
       "Actual No          302            2\n",
       "Actual Yes          14          137"
      ]
     },
     "execution_count": 27,
     "metadata": {},
     "output_type": "execute_result"
    }
   ],
   "source": [
    "### train confusion matrix\n",
    "print(\"training confusion matrix for semi_supervised learning\")\n",
    "semi_train_cm"
   ]
  },
  {
   "cell_type": "code",
   "execution_count": 28,
   "metadata": {},
   "outputs": [
    {
     "name": "stdout",
     "output_type": "stream",
     "text": [
      "test confusion matrix for semi_supervised learning\n"
     ]
    },
    {
     "data": {
      "text/html": [
       "<div>\n",
       "<style scoped>\n",
       "    .dataframe tbody tr th:only-of-type {\n",
       "        vertical-align: middle;\n",
       "    }\n",
       "\n",
       "    .dataframe tbody tr th {\n",
       "        vertical-align: top;\n",
       "    }\n",
       "\n",
       "    .dataframe thead th {\n",
       "        text-align: right;\n",
       "    }\n",
       "</style>\n",
       "<table border=\"1\" class=\"dataframe\">\n",
       "  <thead>\n",
       "    <tr style=\"text-align: right;\">\n",
       "      <th></th>\n",
       "      <th>Predict No</th>\n",
       "      <th>Predict Yes</th>\n",
       "    </tr>\n",
       "  </thead>\n",
       "  <tbody>\n",
       "    <tr>\n",
       "      <th>Actual No</th>\n",
       "      <td>72</td>\n",
       "      <td>0</td>\n",
       "    </tr>\n",
       "    <tr>\n",
       "      <th>Actual Yes</th>\n",
       "      <td>13</td>\n",
       "      <td>29</td>\n",
       "    </tr>\n",
       "  </tbody>\n",
       "</table>\n",
       "</div>"
      ],
      "text/plain": [
       "            Predict No  Predict Yes\n",
       "Actual No           72            0\n",
       "Actual Yes          13           29"
      ]
     },
     "execution_count": 28,
     "metadata": {},
     "output_type": "execute_result"
    }
   ],
   "source": [
    "print(\"test confusion matrix for semi_supervised learning\")\n",
    "semi_test_cm"
   ]
  },
  {
   "cell_type": "code",
   "execution_count": 29,
   "metadata": {},
   "outputs": [
    {
     "data": {
      "image/png": "[encoded data removed]",
      "text/plain": [
       "<Figure size 432x288 with 1 Axes>"
      ]
     },
     "metadata": {},
     "output_type": "display_data"
    }
   ],
   "source": [
    "### get the fpr tpr thresholds \n",
    "train_fpr, train_tpr, train_thresholds = roc_curve(updated_y_train, y_pred_train_prob)\n",
    "test_fpr, test_tpr, test_thresholds = roc_curve(y_test, y_pred_test_prob)\n",
    "\n",
    "### plot the roc \n",
    "import matplotlib.pyplot as plt\n",
    "plt.plot(train_fpr, train_tpr, label='train ROC curve')\n",
    "plt.plot(test_fpr, test_tpr, label='test ROC curve')\n",
    "plt.title('semi_supervised learning ROC curve ')\n",
    "plt.xlabel('False Positive Rate')\n",
    "plt.ylabel('True Positive Rate')\n",
    "plt.legend()\n",
    "plt.show()"
   ]
  },
  {
   "cell_type": "markdown",
   "metadata": {},
   "source": [
    "# iii. Unsupervised Learning"
   ]
  },
  {
   "cell_type": "markdown",
   "metadata": {},
   "source": [
    "A. Run the k-means algorithm multiple times. Make sure that you initialize the algoritm randomly. How do you make sure that the algorithm was not trapped in a local minimum?\n",
    "\n",
    "ans : we might aviod local trapped by a local minimum by setting n_init = 100 is to run K-means multiple times and then choosing the run that gives the lowest error\n"
   ]
  },
  {
   "cell_type": "code",
   "execution_count": 30,
   "metadata": {
    "collapsed": true
   },
   "outputs": [],
   "source": [
    "### prepare the data again \n",
    "X_train, X_test, y_train, y_test = split_data(norm_X,data_y,0.2,42)"
   ]
  },
  {
   "cell_type": "code",
   "execution_count": 31,
   "metadata": {
    "collapsed": true
   },
   "outputs": [],
   "source": [
    "\n",
    "from sklearn.cluster import MiniBatchKMeans\n",
    "\n",
    "kmeans = MiniBatchKMeans(n_clusters=2,  ### k = 2 \n",
    "                         batch_size=50,\n",
    "                         n_init=100,    ### set n_init = 100 to aviod local minimum \n",
    "                         random_state=42)\n",
    "\n",
    "##Compute cluster centers and predict cluster index for each sample in X_train.\n",
    "cluster_label_train = kmeans.fit_predict(X_train)\n",
    "cluster_label_test = kmeans.predict(X_test)\n",
    "## Transform X_train to a cluster-distance space. \n",
    "dist_to_center = kmeans.transform(X_train)  "
   ]
  },
  {
   "cell_type": "markdown",
   "metadata": {},
   "source": [
    "B. Compute the centers of the two clusters and find the closest 30 datapoints to each center.¶"
   ]
  },
  {
   "cell_type": "code",
   "execution_count": 32,
   "metadata": {
    "collapsed": true
   },
   "outputs": [],
   "source": [
    "from statistics import mode\n",
    "def get_majority_label(distance,cluster_n,y_train):\n",
    "    re_dist = list(enumerate(distance))\n",
    "    ### sort the distance list accordingly and get first 30 \n",
    "    closest_30 = sorted(re_dist, key=lambda i : i[1][cluster_n])[:30]\n",
    "    indices = [i[0] for i in closest_30]\n",
    "    ### get the most frequent label \n",
    "    mode_label = mode(y_train[indices])\n",
    "    \n",
    "    return mode_label\n"
   ]
  },
  {
   "cell_type": "code",
   "execution_count": 33,
   "metadata": {
    "collapsed": true
   },
   "outputs": [],
   "source": [
    "majority_label0 = get_majority_label(dist_to_center,0,y_train) ### cluster 0\n",
    "majority_label1 = get_majority_label(dist_to_center,1,y_train) ### cluster 1 "
   ]
  },
  {
   "cell_type": "code",
   "execution_count": 34,
   "metadata": {
    "collapsed": true
   },
   "outputs": [],
   "source": [
    "### assign the majority label to each cluster \n",
    "cluster_label_train = np.where(cluster_label_train==0, majority_label0, majority_label1)\n"
   ]
  },
  {
   "cell_type": "markdown",
   "metadata": {},
   "source": [
    "# plot test and training ROC and the confusion matrix for one of the runs"
   ]
  },
  {
   "cell_type": "code",
   "execution_count": 35,
   "metadata": {},
   "outputs": [
    {
     "data": {
      "text/html": [
       "<div>\n",
       "<style scoped>\n",
       "    .dataframe tbody tr th:only-of-type {\n",
       "        vertical-align: middle;\n",
       "    }\n",
       "\n",
       "    .dataframe tbody tr th {\n",
       "        vertical-align: top;\n",
       "    }\n",
       "\n",
       "    .dataframe thead th {\n",
       "        text-align: right;\n",
       "    }\n",
       "</style>\n",
       "<table border=\"1\" class=\"dataframe\">\n",
       "  <thead>\n",
       "    <tr style=\"text-align: right;\">\n",
       "      <th></th>\n",
       "      <th>Predict No</th>\n",
       "      <th>Predict Yes</th>\n",
       "    </tr>\n",
       "  </thead>\n",
       "  <tbody>\n",
       "    <tr>\n",
       "      <th>Actual No</th>\n",
       "      <td>274</td>\n",
       "      <td>11</td>\n",
       "    </tr>\n",
       "    <tr>\n",
       "      <th>Actual Yes</th>\n",
       "      <td>35</td>\n",
       "      <td>135</td>\n",
       "    </tr>\n",
       "  </tbody>\n",
       "</table>\n",
       "</div>"
      ],
      "text/plain": [
       "            Predict No  Predict Yes\n",
       "Actual No          274           11\n",
       "Actual Yes          35          135"
      ]
     },
     "execution_count": 35,
     "metadata": {},
     "output_type": "execute_result"
    }
   ],
   "source": [
    "train_cm = pd.DataFrame(confusion_matrix(y_train, cluster_label_train), columns= [\"Predict No\", \"Predict Yes\"],\n",
    "                        index = [\"Actual No\", \"Actual Yes\"] )\n",
    "train_cm"
   ]
  },
  {
   "cell_type": "markdown",
   "metadata": {},
   "source": [
    "C. Classify test data based on their proximity to the centers of the clusters.\n",
    "\n",
    "Report the average accuracy, precision, recall, F-score, and AUC over M runs, and ROC and the confusion matrix for one of the runs for the test data."
   ]
  },
  {
   "cell_type": "code",
   "execution_count": 36,
   "metadata": {
    "collapsed": true
   },
   "outputs": [],
   "source": [
    "cluster_label_test = np.where(cluster_label_test==0, majority_label0, majority_label1)"
   ]
  },
  {
   "cell_type": "code",
   "execution_count": 37,
   "metadata": {},
   "outputs": [
    {
     "data": {
      "text/html": [
       "<div>\n",
       "<style scoped>\n",
       "    .dataframe tbody tr th:only-of-type {\n",
       "        vertical-align: middle;\n",
       "    }\n",
       "\n",
       "    .dataframe tbody tr th {\n",
       "        vertical-align: top;\n",
       "    }\n",
       "\n",
       "    .dataframe thead th {\n",
       "        text-align: right;\n",
       "    }\n",
       "</style>\n",
       "<table border=\"1\" class=\"dataframe\">\n",
       "  <thead>\n",
       "    <tr style=\"text-align: right;\">\n",
       "      <th></th>\n",
       "      <th>Predict No</th>\n",
       "      <th>Predict Yes</th>\n",
       "    </tr>\n",
       "  </thead>\n",
       "  <tbody>\n",
       "    <tr>\n",
       "      <th>Actual No</th>\n",
       "      <td>72</td>\n",
       "      <td>0</td>\n",
       "    </tr>\n",
       "    <tr>\n",
       "      <th>Actual Yes</th>\n",
       "      <td>13</td>\n",
       "      <td>29</td>\n",
       "    </tr>\n",
       "  </tbody>\n",
       "</table>\n",
       "</div>"
      ],
      "text/plain": [
       "            Predict No  Predict Yes\n",
       "Actual No           72            0\n",
       "Actual Yes          13           29"
      ]
     },
     "execution_count": 37,
     "metadata": {},
     "output_type": "execute_result"
    }
   ],
   "source": [
    "test_cm = pd.DataFrame(confusion_matrix(y_test, cluster_label_test), columns= [\"Predict No\", \"Predict Yes\"],\n",
    "                        index = [\"Actual No\", \"Actual Yes\"] )\n",
    "test_cm"
   ]
  },
  {
   "cell_type": "code",
   "execution_count": 38,
   "metadata": {},
   "outputs": [
    {
     "data": {
      "image/png": "[encoded data removed]",
      "text/plain": [
       "<Figure size 432x288 with 1 Axes>"
      ]
     },
     "metadata": {},
     "output_type": "display_data"
    }
   ],
   "source": [
    "train_fpr, train_tpr, train_thresholds = roc_curve(y_train, pd.DataFrame(kmeans.transform(X_train)).iloc[:,1])\n",
    "test_fpr, test_tpr, test_thresholds = roc_curve(y_test, pd.DataFrame(kmeans.transform(X_test)).iloc[:,1])\n",
    "plt.plot(train_fpr, train_tpr, label='train ROC curve')\n",
    "plt.plot(test_fpr, test_tpr, label='test ROC curve')\n",
    "plt.title('unsupervised learning ROC curve')\n",
    "plt.xlabel('False Positive Rate')\n",
    "plt.ylabel('True Positive Rate')\n",
    "plt.legend()\n",
    "plt.show()"
   ]
  },
  {
   "cell_type": "markdown",
   "metadata": {},
   "source": [
    "# Monte-Carlo Simulation for unsupervised learning(M=30)"
   ]
  },
  {
   "cell_type": "code",
   "execution_count": 39,
   "metadata": {
    "collapsed": true
   },
   "outputs": [],
   "source": [
    "def unsupervised_learning():\n",
    "    \n",
    "    info_result = list()\n",
    "\n",
    "    kmeans = MiniBatchKMeans(n_clusters=2,  ### k = 2 \n",
    "                         batch_size=50,\n",
    "                         n_init=100, )   ### set n_init = 100 to aviod local minimum \n",
    "\n",
    "    ##Compute cluster centers and predict cluster index for each sample in X_train.\n",
    "    cluster_label_train = kmeans.fit_predict(X_train)\n",
    "    cluster_label_test = kmeans.predict(X_test)\n",
    "    ## Transform X_train to a cluster-distance space. \n",
    "    dist_to_center = kmeans.transform(X_train)  \n",
    "    \n",
    "    \n",
    "    ### get the majority label \n",
    "    majority_label0 = get_majority_label(dist_to_center,0,y_train) ### cluster 0\n",
    "    majority_label1 = get_majority_label(dist_to_center,1,y_train) ### cluster 1 \n",
    "    \n",
    "    ### assign the majority label to each cluster \n",
    "    cluster_label_train = np.where(cluster_label_train==0, majority_label0, majority_label1)\n",
    "    cluster_label_test = np.where(cluster_label_test==0, majority_label0, majority_label1)\n",
    "    \n",
    "    ##AUC\n",
    "    if(majority_label0==0):\n",
    "        train_auc = roc_auc_score(y_train, pd.DataFrame(kmeans.transform(X_train)).iloc[:,0])\n",
    "        test_auc = roc_auc_score(y_test, pd.DataFrame(kmeans.transform(X_test)).iloc[:,0])\n",
    "    \n",
    "\n",
    "    else:\n",
    "        train_auc = roc_auc_score(y_train, pd.DataFrame(kmeans.transform(X_train)).iloc[:,1])\n",
    "        test_auc = roc_auc_score(y_test, pd.DataFrame(kmeans.transform(X_test)).iloc[:,1])\n",
    "    \n",
    "     # Append the train results accordingly\n",
    "    train_report = classification_report(y_train, cluster_label_train, output_dict=True)\n",
    "    train_weighted_avg = train_report['weighted avg']\n",
    "    info_result.append(train_report['accuracy'])\n",
    "    info_result.append(train_weighted_avg['precision'])\n",
    "    info_result.append(train_weighted_avg['recall'])\n",
    "    info_result.append(train_weighted_avg['f1-score'])\n",
    "    info_result.append(train_auc)\n",
    "    \n",
    "    ### Append the test results accordingly \n",
    "    test_report = classification_report(y_test, cluster_label_test, output_dict=True)\n",
    "    test_weighted_avg = test_report['weighted avg']\n",
    "    info_result.append(test_report['accuracy'])\n",
    "    info_result.append(test_weighted_avg['precision'])\n",
    "    info_result.append(test_weighted_avg['recall'])\n",
    "    info_result.append(test_weighted_avg['f1-score'])\n",
    "    info_result.append(test_auc)\n",
    "    \n",
    "    return info_result\n",
    "    \n",
    "    \n",
    "    \n",
    "    \n",
    "    "
   ]
  },
  {
   "cell_type": "code",
   "execution_count": 40,
   "metadata": {},
   "outputs": [
    {
     "name": "stdout",
     "output_type": "stream",
     "text": [
      "complete 1/3\n",
      "complete 2/3\n",
      "complete\n"
     ]
    }
   ],
   "source": [
    "# Monte-Carlo simulation for unsupervised learning\n",
    "\n",
    "col_name = ['train_accuracy', 'train_precision', 'train_recall', 'train_f1_score', \n",
    "       'train_auc', 'test_accuracy', 'test_precision', \n",
    "       'test_recall', 'test_f1_score', 'test_auc']\n",
    "\n",
    "unsupervised_result = pd.DataFrame(columns=col_name, index=range(30))\n",
    "\n",
    "\n",
    "for i in range(30):\n",
    "    \n",
    "    rand_int = np.random.randint(1e9)\n",
    "    \n",
    "    X_train, X_test, y_train, y_test = split_data(norm_X,data_y,0.2,rand_int)\n",
    "    \n",
    "    if i == 10:\n",
    "        print(\"complete 1/3\")\n",
    "        \n",
    "    elif i == 20:\n",
    "        print(\"complete 2/3\")\n",
    "        \n",
    "    elif i == 29:\n",
    "        print(\"complete\")\n",
    "    \n",
    "    ### get the info \n",
    "    info = unsupervised_learning()\n",
    "    \n",
    "    \n",
    "    unsupervised_result.loc[i] = info"
   ]
  },
  {
   "cell_type": "code",
   "execution_count": 41,
   "metadata": {},
   "outputs": [
    {
     "name": "stdout",
     "output_type": "stream",
     "text": [
      "The Monte_Carlo result of unsupervised learning:\n"
     ]
    },
    {
     "data": {
      "text/plain": [
       "train_accuracy     0.887253\n",
       "train_precision    0.895821\n",
       "train_recall       0.887253\n",
       "train_f1_score     0.883385\n",
       "train_auc          0.911057\n",
       "test_accuracy      0.888012\n",
       "test_precision     0.897998\n",
       "test_recall        0.888012\n",
       "test_f1_score      0.883621\n",
       "test_auc           0.915642\n",
       "dtype: float64"
      ]
     },
     "execution_count": 41,
     "metadata": {},
     "output_type": "execute_result"
    }
   ],
   "source": [
    "print(\"The Monte_Carlo result of unsupervised learning:\")\n",
    "unsupervised_result.mean()"
   ]
  },
  {
   "cell_type": "markdown",
   "metadata": {},
   "source": [
    "# iv. Spectral Clustering"
   ]
  },
  {
   "cell_type": "code",
   "execution_count": 42,
   "metadata": {
    "collapsed": true
   },
   "outputs": [],
   "source": [
    "### prepare the data again \n",
    "X_train, X_test, y_train, y_test = split_data(norm_X,data_y,0.2,42)\n"
   ]
  },
  {
   "cell_type": "code",
   "execution_count": 43,
   "metadata": {
    "collapsed": true
   },
   "outputs": [],
   "source": [
    "from sklearn.cluster import SpectralClustering\n",
    "\n",
    "spec_clust = SpectralClustering(n_clusters=2,\n",
    "                                gamma = 1,\n",
    "                                affinity='rbf',\n",
    "                                n_init=100,\n",
    "                                random_state=42,\n",
    "                                n_jobs=-1)\n",
    "spec_clust.fit(X_train)\n",
    "labels = spec_clust.labels_\n",
    "### using fit_predict to get label\n",
    "cluster_label_train = spec_clust.fit_predict(X_train)\n",
    "cluster_label_test = spec_clust.fit_predict(X_test)"
   ]
  },
  {
   "cell_type": "code",
   "execution_count": 44,
   "metadata": {
    "collapsed": true
   },
   "outputs": [],
   "source": [
    "### get cluster index  in train \n",
    "cluster_index0 = np.where(labels==0) # cluter 0 \n",
    "cluster_index1 = np.where(labels==1) # cluster 1 \n",
    "\n",
    "### get majority label from most prequent \n",
    "majority_label0 = mode(y_train.iloc[cluster_index0])\n",
    "majority_label1 = mode(y_train.iloc[cluster_index1])\n",
    "\n",
    "### assign majority label to each clusters  \n",
    "### if it's cluster 0, then assign majority_label0\n",
    "cluster_label_train = np.where(cluster_label_train==0, majority_label0, majority_label1)\n",
    "cluster_label_test = np.where(cluster_label_test==0, majority_label0, majority_label1)\n",
    "\n"
   ]
  },
  {
   "cell_type": "code",
   "execution_count": 45,
   "metadata": {},
   "outputs": [
    {
     "name": "stdout",
     "output_type": "stream",
     "text": [
      "True Positives: 122\n",
      "False Positives: 6\n",
      "True Negatives: 279\n",
      "False Negatives: 48\n"
     ]
    },
    {
     "data": {
      "text/html": [
       "<div>\n",
       "<style scoped>\n",
       "    .dataframe tbody tr th:only-of-type {\n",
       "        vertical-align: middle;\n",
       "    }\n",
       "\n",
       "    .dataframe tbody tr th {\n",
       "        vertical-align: top;\n",
       "    }\n",
       "\n",
       "    .dataframe thead th {\n",
       "        text-align: right;\n",
       "    }\n",
       "</style>\n",
       "<table border=\"1\" class=\"dataframe\">\n",
       "  <thead>\n",
       "    <tr style=\"text-align: right;\">\n",
       "      <th></th>\n",
       "      <th>Predict No</th>\n",
       "      <th>Predict Yes</th>\n",
       "    </tr>\n",
       "  </thead>\n",
       "  <tbody>\n",
       "    <tr>\n",
       "      <th>Actual No</th>\n",
       "      <td>279</td>\n",
       "      <td>6</td>\n",
       "    </tr>\n",
       "    <tr>\n",
       "      <th>Actual Yes</th>\n",
       "      <td>48</td>\n",
       "      <td>122</td>\n",
       "    </tr>\n",
       "  </tbody>\n",
       "</table>\n",
       "</div>"
      ],
      "text/plain": [
       "            Predict No  Predict Yes\n",
       "Actual No          279            6\n",
       "Actual Yes          48          122"
      ]
     },
     "execution_count": 45,
     "metadata": {},
     "output_type": "execute_result"
    }
   ],
   "source": [
    "#confusion matrix of training data\n",
    "tn_train, fp_train, fn_train, tp_train = confusion_matrix(y_train,cluster_label_train).ravel()\n",
    "print(f'True Positives: {tp_train}')\n",
    "print(f'False Positives: {fp_train}')\n",
    "print(f'True Negatives: {tn_train}')\n",
    "print(f'False Negatives: {fn_train}')\n",
    "train_cm = pd.DataFrame(confusion_matrix(y_train, cluster_label_train), columns= [\"Predict No\", \"Predict Yes\"],\n",
    "                        index = [\"Actual No\", \"Actual Yes\"] )\n",
    "train_cm"
   ]
  },
  {
   "cell_type": "code",
   "execution_count": 46,
   "metadata": {},
   "outputs": [
    {
     "name": "stdout",
     "output_type": "stream",
     "text": [
      "True Positives: 28\n",
      "False Positives: 0\n",
      "True Negatives: 72\n",
      "False Negatives: 14\n"
     ]
    },
    {
     "data": {
      "text/html": [
       "<div>\n",
       "<style scoped>\n",
       "    .dataframe tbody tr th:only-of-type {\n",
       "        vertical-align: middle;\n",
       "    }\n",
       "\n",
       "    .dataframe tbody tr th {\n",
       "        vertical-align: top;\n",
       "    }\n",
       "\n",
       "    .dataframe thead th {\n",
       "        text-align: right;\n",
       "    }\n",
       "</style>\n",
       "<table border=\"1\" class=\"dataframe\">\n",
       "  <thead>\n",
       "    <tr style=\"text-align: right;\">\n",
       "      <th></th>\n",
       "      <th>Predict No</th>\n",
       "      <th>Predict Yes</th>\n",
       "    </tr>\n",
       "  </thead>\n",
       "  <tbody>\n",
       "    <tr>\n",
       "      <th>Actual No</th>\n",
       "      <td>72</td>\n",
       "      <td>0</td>\n",
       "    </tr>\n",
       "    <tr>\n",
       "      <th>Actual Yes</th>\n",
       "      <td>14</td>\n",
       "      <td>28</td>\n",
       "    </tr>\n",
       "  </tbody>\n",
       "</table>\n",
       "</div>"
      ],
      "text/plain": [
       "            Predict No  Predict Yes\n",
       "Actual No           72            0\n",
       "Actual Yes          14           28"
      ]
     },
     "execution_count": 46,
     "metadata": {},
     "output_type": "execute_result"
    }
   ],
   "source": [
    "#confusion matrix for test data \n",
    "tn_test, fp_test, fn_test, tp_test = confusion_matrix(y_test,cluster_label_test).ravel()\n",
    "print(f'True Positives: {tp_test}')\n",
    "print(f'False Positives: {fp_test}')\n",
    "print(f'True Negatives: {tn_test}')\n",
    "print(f'False Negatives: {fn_test}')\n",
    "test_cm = pd.DataFrame(confusion_matrix(y_test, cluster_label_test), columns= [\"Predict No\", \"Predict Yes\"],\n",
    "                        index = [\"Actual No\", \"Actual Yes\"] )\n",
    "test_cm"
   ]
  },
  {
   "cell_type": "code",
   "execution_count": 47,
   "metadata": {
    "collapsed": true
   },
   "outputs": [],
   "source": [
    "from sklearn.metrics import pairwise_distances\n",
    "#ROC curve\n",
    "test_dis = pairwise_distances(X_test, X_train, n_jobs=10)\n",
    "train_dis = pairwise_distances(X_train, X_train, n_jobs=10)\n",
    "train_min_0 = np.amin(train_dis[:,cluster_index0[0]], axis = 1).reshape(-1,1)\n",
    "train_min_1 = np.amin(train_dis[:,cluster_index1[0]], axis = 1).reshape(-1, 1)\n",
    "train_min = np.concatenate((train_min_0, train_min_1), axis=1)\n",
    "train_pro_class0 = (train_min[:, 0] / np.sum(train_min, axis=1))\n",
    "test_min_0 = np.amin(test_dis[:,cluster_index0[0]], axis = 1).reshape(-1,1)\n",
    "test_min_1 = np.amin(test_dis[:,cluster_index1[0]], axis = 1).reshape(-1, 1)\n",
    "test_min = np.concatenate((test_min_0, test_min_1), axis=1)\n",
    "test_pro_class0 = (test_min[:, 0] / np.sum(test_min, axis=1))"
   ]
  },
  {
   "cell_type": "code",
   "execution_count": 48,
   "metadata": {},
   "outputs": [
    {
     "data": {
      "image/png": "[encoded data removed]",
      "text/plain": [
       "<Figure size 432x288 with 1 Axes>"
      ]
     },
     "metadata": {},
     "output_type": "display_data"
    }
   ],
   "source": [
    "train_fpr, train_tpr, train_thresholds = roc_curve(y_train, train_pro_class0)\n",
    "test_fpr, test_tpr, test_thresholds = roc_curve(y_test, test_pro_class0)\n",
    "plt.plot(train_fpr, train_tpr, label='train ROC curve')\n",
    "plt.plot(test_fpr, test_tpr, label='test ROC curve')\n",
    "plt.title('ROC curve')\n",
    "plt.xlabel('False Positive Rate')\n",
    "plt.ylabel('True Positive Rate')\n",
    "plt.legend()\n",
    "plt.show()"
   ]
  },
  {
   "cell_type": "markdown",
   "metadata": {},
   "source": [
    "# Monte-Carlo Simulation for Spectral Clustering(M=30)\n"
   ]
  },
  {
   "cell_type": "code",
   "execution_count": 49,
   "metadata": {
    "collapsed": true
   },
   "outputs": [],
   "source": [
    "def spec_clustering():\n",
    "    \n",
    "    info_result = list()\n",
    "    \n",
    "    spec_clust = SpectralClustering(n_clusters=2,\n",
    "                                gamma = 1,\n",
    "                                affinity='rbf',\n",
    "                                n_init=100,\n",
    "                                random_state=42,\n",
    "                                n_jobs=-1)\n",
    "    spec_clust.fit(X_train)\n",
    "    labels = spec_clust.labels_\n",
    "    ### using fit_predict to get label\n",
    "    cluster_label_train = spec_clust.fit_predict(X_train)\n",
    "    cluster_label_test = spec_clust.fit_predict(X_test)\n",
    "    \n",
    "    ### get cluster index  in train \n",
    "    cluster_index0 = np.where(labels==0) # cluter 0 \n",
    "    cluster_index1 = np.where(labels==1) # cluster 1 \n",
    "\n",
    "    ### get majority label from most prequent \n",
    "    majority_label0 = mode(y_train.iloc[cluster_index0])\n",
    "    majority_label1 = mode(y_train.iloc[cluster_index1])\n",
    "\n",
    "    ### assign majority label to each clusters  \n",
    "    ### if it's cluster 0, then assign majority_label0\n",
    "    cluster_label_train = np.where(cluster_label_train==0, majority_label0, majority_label1)\n",
    "    cluster_label_test = np.where(cluster_label_test==0, majority_label0, majority_label1)\n",
    "    \n",
    "    #AUC score\n",
    "    test_dis = pairwise_distances(X_test, X_train, n_jobs=10)\n",
    "    train_dis = pairwise_distances(X_train, X_train, n_jobs=10)\n",
    "    train_min_0 = np.amin(train_dis[:,cluster_index0[0]], axis = 1).reshape(-1,1)\n",
    "    train_min_1 = np.amin(train_dis[:,cluster_index1[0]], axis = 1).reshape(-1, 1)\n",
    "    train_min = np.concatenate((train_min_0, train_min_1), axis=1)\n",
    "    train_pro_class0 = (train_min[:, 0] / np.sum(train_min, axis=1))\n",
    "    test_min_0 = np.amin(test_dis[:,cluster_index0[0]], axis = 1).reshape(-1,1)\n",
    "    test_min_1 = np.amin(test_dis[:,cluster_index1[0]], axis = 1).reshape(-1, 1)\n",
    "    test_min = np.concatenate((test_min_0, test_min_1), axis=1)\n",
    "    test_pro_class0 = (test_min[:, 0] / np.sum(test_min, axis=1))\n",
    "    train_auc = roc_auc_score(y_train, train_pro_class0)\n",
    "    test_auc = roc_auc_score(y_test, test_pro_class0)\n",
    "    \n",
    "    \n",
    "     # Append the train results accordingly\n",
    "    train_report = classification_report(y_train, cluster_label_train, output_dict=True)\n",
    "    train_weighted_avg = train_report['weighted avg']\n",
    "    info_result.append(train_report['accuracy'])\n",
    "    info_result.append(train_weighted_avg['precision'])\n",
    "    info_result.append(train_weighted_avg['recall'])\n",
    "    info_result.append(train_weighted_avg['f1-score'])\n",
    "    info_result.append(train_auc)\n",
    "    \n",
    "    ### Append the test results accordingly \n",
    "    test_report = classification_report(y_test, cluster_label_test, output_dict=True)\n",
    "    test_weighted_avg = test_report['weighted avg']\n",
    "    info_result.append(test_report['accuracy'])\n",
    "    info_result.append(test_weighted_avg['precision'])\n",
    "    info_result.append(test_weighted_avg['recall'])\n",
    "    info_result.append(test_weighted_avg['f1-score'])\n",
    "    info_result.append(test_auc)\n",
    "    \n",
    "    return info_result "
   ]
  },
  {
   "cell_type": "code",
   "execution_count": 50,
   "metadata": {},
   "outputs": [
    {
     "name": "stdout",
     "output_type": "stream",
     "text": [
      "complete 1/3\n",
      "complete 2/3\n",
      "complete\n"
     ]
    }
   ],
   "source": [
    "# Monte-Carlo simulation for spetral clustering \n",
    "\n",
    "col_name = ['train_accuracy', 'train_precision', 'train_recall', 'train_f1_score', \n",
    "       'train_auc', 'test_accuracy', 'test_precision', \n",
    "       'test_recall', 'test_f1_score', 'test_auc']\n",
    "\n",
    "spec_clustering_result = pd.DataFrame(columns=col_name, index=range(30))\n",
    "\n",
    "\n",
    "for i in range(30):\n",
    "    \n",
    "    rand_int = np.random.randint(1e9)\n",
    "    \n",
    "    X_train, X_test, y_train, y_test = split_data(norm_X,data_y,0.2,rand_int)\n",
    "    \n",
    "    if i == 10:\n",
    "        print(\"complete 1/3\")\n",
    "        \n",
    "    elif i == 20:\n",
    "        print(\"complete 2/3\")\n",
    "        \n",
    "    elif i == 29:\n",
    "        print(\"complete\")\n",
    "    \n",
    "    ### get the info \n",
    "    info = spec_clustering()\n",
    "    \n",
    "    \n",
    "    spec_clustering_result.loc[i] = info"
   ]
  },
  {
   "cell_type": "code",
   "execution_count": 51,
   "metadata": {},
   "outputs": [
    {
     "name": "stdout",
     "output_type": "stream",
     "text": [
      "The Monte_Carlo result of spec_clustering :\n"
     ]
    },
    {
     "data": {
      "text/plain": [
       "train_accuracy     0.883810\n",
       "train_precision    0.894372\n",
       "train_recall       0.883810\n",
       "train_f1_score     0.879387\n",
       "train_auc          0.638971\n",
       "test_accuracy      0.527778\n",
       "test_precision     0.518937\n",
       "test_recall        0.527778\n",
       "test_f1_score      0.514363\n",
       "test_auc           0.675298\n",
       "dtype: float64"
      ]
     },
     "execution_count": 51,
     "metadata": {},
     "output_type": "execute_result"
    }
   ],
   "source": [
    "print(\"The Monte_Carlo result of spec_clustering :\")\n",
    "spec_clustering_result.mean()"
   ]
  },
  {
   "cell_type": "markdown",
   "metadata": {},
   "source": [
    "# v. Compare \n",
    "Spectral Clustering: Repeat ?? using spectral clustering, which is cluster-\n",
    "3\n",
    "One can expect that supervised learning on the full data set works better than semi-supervised learning with half of the data set labeled.One can expect that unsupervised learning underperforms in such situations. Compare the results you obtained by those methods."
   ]
  },
  {
   "cell_type": "code",
   "execution_count": 52,
   "metadata": {},
   "outputs": [
    {
     "data": {
      "text/html": [
       "<div>\n",
       "<style scoped>\n",
       "    .dataframe tbody tr th:only-of-type {\n",
       "        vertical-align: middle;\n",
       "    }\n",
       "\n",
       "    .dataframe tbody tr th {\n",
       "        vertical-align: top;\n",
       "    }\n",
       "\n",
       "    .dataframe thead th {\n",
       "        text-align: right;\n",
       "    }\n",
       "</style>\n",
       "<table border=\"1\" class=\"dataframe\">\n",
       "  <thead>\n",
       "    <tr style=\"text-align: right;\">\n",
       "      <th></th>\n",
       "      <th>supervised</th>\n",
       "      <th>semi_supervised</th>\n",
       "      <th>unsupervised</th>\n",
       "      <th>spectral_clustering</th>\n",
       "    </tr>\n",
       "  </thead>\n",
       "  <tbody>\n",
       "    <tr>\n",
       "      <th>train_accuracy</th>\n",
       "      <td>0.9045</td>\n",
       "      <td>0.9061</td>\n",
       "      <td>0.8873</td>\n",
       "      <td>0.8838</td>\n",
       "    </tr>\n",
       "    <tr>\n",
       "      <th>train_precision</th>\n",
       "      <td>0.9084</td>\n",
       "      <td>0.9332</td>\n",
       "      <td>0.8958</td>\n",
       "      <td>0.8944</td>\n",
       "    </tr>\n",
       "    <tr>\n",
       "      <th>train_recall</th>\n",
       "      <td>0.9045</td>\n",
       "      <td>0.9061</td>\n",
       "      <td>0.8873</td>\n",
       "      <td>0.8838</td>\n",
       "    </tr>\n",
       "    <tr>\n",
       "      <th>train_f1_score</th>\n",
       "      <td>0.9027</td>\n",
       "      <td>0.8977</td>\n",
       "      <td>0.8834</td>\n",
       "      <td>0.8794</td>\n",
       "    </tr>\n",
       "    <tr>\n",
       "      <th>train_auc</th>\n",
       "      <td>0.9628</td>\n",
       "      <td>0.9789</td>\n",
       "      <td>0.9111</td>\n",
       "      <td>0.6390</td>\n",
       "    </tr>\n",
       "    <tr>\n",
       "      <th>test_accuracy</th>\n",
       "      <td>0.9070</td>\n",
       "      <td>0.8497</td>\n",
       "      <td>0.8880</td>\n",
       "      <td>0.5278</td>\n",
       "    </tr>\n",
       "    <tr>\n",
       "      <th>test_precision</th>\n",
       "      <td>0.9105</td>\n",
       "      <td>0.8845</td>\n",
       "      <td>0.8980</td>\n",
       "      <td>0.5189</td>\n",
       "    </tr>\n",
       "    <tr>\n",
       "      <th>test_recall</th>\n",
       "      <td>0.9070</td>\n",
       "      <td>0.8497</td>\n",
       "      <td>0.8880</td>\n",
       "      <td>0.5278</td>\n",
       "    </tr>\n",
       "    <tr>\n",
       "      <th>test_f1_score</th>\n",
       "      <td>0.9056</td>\n",
       "      <td>0.8372</td>\n",
       "      <td>0.8836</td>\n",
       "      <td>0.5144</td>\n",
       "    </tr>\n",
       "    <tr>\n",
       "      <th>test_auc</th>\n",
       "      <td>0.9686</td>\n",
       "      <td>0.9480</td>\n",
       "      <td>0.9156</td>\n",
       "      <td>0.6753</td>\n",
       "    </tr>\n",
       "  </tbody>\n",
       "</table>\n",
       "</div>"
      ],
      "text/plain": [
       "                 supervised  semi_supervised  unsupervised  \\\n",
       "train_accuracy       0.9045           0.9061        0.8873   \n",
       "train_precision      0.9084           0.9332        0.8958   \n",
       "train_recall         0.9045           0.9061        0.8873   \n",
       "train_f1_score       0.9027           0.8977        0.8834   \n",
       "train_auc            0.9628           0.9789        0.9111   \n",
       "test_accuracy        0.9070           0.8497        0.8880   \n",
       "test_precision       0.9105           0.8845        0.8980   \n",
       "test_recall          0.9070           0.8497        0.8880   \n",
       "test_f1_score        0.9056           0.8372        0.8836   \n",
       "test_auc             0.9686           0.9480        0.9156   \n",
       "\n",
       "                 spectral_clustering  \n",
       "train_accuracy                0.8838  \n",
       "train_precision               0.8944  \n",
       "train_recall                  0.8838  \n",
       "train_f1_score                0.8794  \n",
       "train_auc                     0.6390  \n",
       "test_accuracy                 0.5278  \n",
       "test_precision                0.5189  \n",
       "test_recall                   0.5278  \n",
       "test_f1_score                 0.5144  \n",
       "test_auc                      0.6753  "
      ]
     },
     "execution_count": 52,
     "metadata": {},
     "output_type": "execute_result"
    }
   ],
   "source": [
    "compare_table = pd.DataFrame({'supervised':supervised_result.mean(), \n",
    "                              'semi_supervised':semi_supervised_result.mean(),\n",
    "                              'unsupervised':unsupervised_result.mean(), \n",
    "                              'spectral_clustering':spec_clustering_result.mean()})\n",
    "round(compare_table,4)"
   ]
  },
  {
   "cell_type": "markdown",
   "metadata": {
    "collapsed": true
   },
   "source": [
    "From the compare table, supervised learning on the full data set performs similarly to the semi-supervised learning with half of the data set labeled in terms of training metrics. however, based on test metrics, the supervised performs bettern than semi_supervised learning. also, both supervised and semi_supervised performs better than unspervised learning. the spectral_clustering performs worst among all. \n"
   ]
  },
  {
   "cell_type": "markdown",
   "metadata": {},
   "source": [
    "# 2. Active Learning Using Support Vector Machines"
   ]
  },
  {
   "cell_type": "markdown",
   "metadata": {
    "collapsed": true
   },
   "source": [
    "# (a) Download the banknote authentication Data Set"
   ]
  },
  {
   "cell_type": "code",
   "execution_count": 1,
   "metadata": {
    "collapsed": true
   },
   "outputs": [],
   "source": [
    "from sklearn.model_selection import GridSearchCV\n",
    "from sklearn.svm import LinearSVC\n",
    "from sklearn.metrics import confusion_matrix\n",
    "from sklearn.metrics import roc_auc_score\n",
    "from sklearn.metrics import roc_curve"
   ]
  },
  {
   "cell_type": "code",
   "execution_count": 2,
   "metadata": {
    "collapsed": true
   },
   "outputs": [],
   "source": [
    "import pandas as pd\n",
    "import numpy as np\n",
    "from hyperopt import fmin, tpe, hp, STATUS_OK, Trials\n",
    "from sklearn.svm import SVC\n",
    "from sklearn.model_selection import cross_val_score\n",
    "from sklearn.linear_model import SGDClassifier\n",
    "from sklearn.model_selection import train_test_split"
   ]
  },
  {
   "cell_type": "code",
   "execution_count": 3,
   "metadata": {
    "collapsed": true
   },
   "outputs": [],
   "source": [
    "bank_data = pd.read_csv('../Homework 6 Data/data_banknote_authentication.txt', header=None)"
   ]
  },
  {
   "cell_type": "code",
   "execution_count": 4,
   "metadata": {},
   "outputs": [
    {
     "data": {
      "text/html": [
       "<div>\n",
       "<style scoped>\n",
       "    .dataframe tbody tr th:only-of-type {\n",
       "        vertical-align: middle;\n",
       "    }\n",
       "\n",
       "    .dataframe tbody tr th {\n",
       "        vertical-align: top;\n",
       "    }\n",
       "\n",
       "    .dataframe thead th {\n",
       "        text-align: right;\n",
       "    }\n",
       "</style>\n",
       "<table border=\"1\" class=\"dataframe\">\n",
       "  <thead>\n",
       "    <tr style=\"text-align: right;\">\n",
       "      <th></th>\n",
       "      <th>0</th>\n",
       "      <th>1</th>\n",
       "      <th>2</th>\n",
       "      <th>3</th>\n",
       "      <th>4</th>\n",
       "    </tr>\n",
       "  </thead>\n",
       "  <tbody>\n",
       "    <tr>\n",
       "      <th>0</th>\n",
       "      <td>3.62160</td>\n",
       "      <td>8.66610</td>\n",
       "      <td>-2.8073</td>\n",
       "      <td>-0.44699</td>\n",
       "      <td>0</td>\n",
       "    </tr>\n",
       "    <tr>\n",
       "      <th>1</th>\n",
       "      <td>4.54590</td>\n",
       "      <td>8.16740</td>\n",
       "      <td>-2.4586</td>\n",
       "      <td>-1.46210</td>\n",
       "      <td>0</td>\n",
       "    </tr>\n",
       "    <tr>\n",
       "      <th>2</th>\n",
       "      <td>3.86600</td>\n",
       "      <td>-2.63830</td>\n",
       "      <td>1.9242</td>\n",
       "      <td>0.10645</td>\n",
       "      <td>0</td>\n",
       "    </tr>\n",
       "    <tr>\n",
       "      <th>3</th>\n",
       "      <td>3.45660</td>\n",
       "      <td>9.52280</td>\n",
       "      <td>-4.0112</td>\n",
       "      <td>-3.59440</td>\n",
       "      <td>0</td>\n",
       "    </tr>\n",
       "    <tr>\n",
       "      <th>4</th>\n",
       "      <td>0.32924</td>\n",
       "      <td>-4.45520</td>\n",
       "      <td>4.5718</td>\n",
       "      <td>-0.98880</td>\n",
       "      <td>0</td>\n",
       "    </tr>\n",
       "    <tr>\n",
       "      <th>...</th>\n",
       "      <td>...</td>\n",
       "      <td>...</td>\n",
       "      <td>...</td>\n",
       "      <td>...</td>\n",
       "      <td>...</td>\n",
       "    </tr>\n",
       "    <tr>\n",
       "      <th>1367</th>\n",
       "      <td>0.40614</td>\n",
       "      <td>1.34920</td>\n",
       "      <td>-1.4501</td>\n",
       "      <td>-0.55949</td>\n",
       "      <td>1</td>\n",
       "    </tr>\n",
       "    <tr>\n",
       "      <th>1368</th>\n",
       "      <td>-1.38870</td>\n",
       "      <td>-4.87730</td>\n",
       "      <td>6.4774</td>\n",
       "      <td>0.34179</td>\n",
       "      <td>1</td>\n",
       "    </tr>\n",
       "    <tr>\n",
       "      <th>1369</th>\n",
       "      <td>-3.75030</td>\n",
       "      <td>-13.45860</td>\n",
       "      <td>17.5932</td>\n",
       "      <td>-2.77710</td>\n",
       "      <td>1</td>\n",
       "    </tr>\n",
       "    <tr>\n",
       "      <th>1370</th>\n",
       "      <td>-3.56370</td>\n",
       "      <td>-8.38270</td>\n",
       "      <td>12.3930</td>\n",
       "      <td>-1.28230</td>\n",
       "      <td>1</td>\n",
       "    </tr>\n",
       "    <tr>\n",
       "      <th>1371</th>\n",
       "      <td>-2.54190</td>\n",
       "      <td>-0.65804</td>\n",
       "      <td>2.6842</td>\n",
       "      <td>1.19520</td>\n",
       "      <td>1</td>\n",
       "    </tr>\n",
       "  </tbody>\n",
       "</table>\n",
       "<p>1372 rows × 5 columns</p>\n",
       "</div>"
      ],
      "text/plain": [
       "            0         1        2        3  4\n",
       "0     3.62160   8.66610  -2.8073 -0.44699  0\n",
       "1     4.54590   8.16740  -2.4586 -1.46210  0\n",
       "2     3.86600  -2.63830   1.9242  0.10645  0\n",
       "3     3.45660   9.52280  -4.0112 -3.59440  0\n",
       "4     0.32924  -4.45520   4.5718 -0.98880  0\n",
       "...       ...       ...      ...      ... ..\n",
       "1367  0.40614   1.34920  -1.4501 -0.55949  1\n",
       "1368 -1.38870  -4.87730   6.4774  0.34179  1\n",
       "1369 -3.75030 -13.45860  17.5932 -2.77710  1\n",
       "1370 -3.56370  -8.38270  12.3930 -1.28230  1\n",
       "1371 -2.54190  -0.65804   2.6842  1.19520  1\n",
       "\n",
       "[1372 rows x 5 columns]"
      ]
     },
     "execution_count": 4,
     "metadata": {},
     "output_type": "execute_result"
    }
   ],
   "source": [
    "bank_data"
   ]
  },
  {
   "cell_type": "code",
   "execution_count": 5,
   "metadata": {},
   "outputs": [
    {
     "data": {
      "text/html": [
       "<div>\n",
       "<style scoped>\n",
       "    .dataframe tbody tr th:only-of-type {\n",
       "        vertical-align: middle;\n",
       "    }\n",
       "\n",
       "    .dataframe tbody tr th {\n",
       "        vertical-align: top;\n",
       "    }\n",
       "\n",
       "    .dataframe thead th {\n",
       "        text-align: right;\n",
       "    }\n",
       "</style>\n",
       "<table border=\"1\" class=\"dataframe\">\n",
       "  <thead>\n",
       "    <tr style=\"text-align: right;\">\n",
       "      <th></th>\n",
       "      <th>0</th>\n",
       "      <th>1</th>\n",
       "      <th>2</th>\n",
       "      <th>3</th>\n",
       "    </tr>\n",
       "  </thead>\n",
       "  <tbody>\n",
       "    <tr>\n",
       "      <th>0</th>\n",
       "      <td>3.62160</td>\n",
       "      <td>8.6661</td>\n",
       "      <td>-2.8073</td>\n",
       "      <td>-0.44699</td>\n",
       "    </tr>\n",
       "    <tr>\n",
       "      <th>1</th>\n",
       "      <td>4.54590</td>\n",
       "      <td>8.1674</td>\n",
       "      <td>-2.4586</td>\n",
       "      <td>-1.46210</td>\n",
       "    </tr>\n",
       "    <tr>\n",
       "      <th>2</th>\n",
       "      <td>3.86600</td>\n",
       "      <td>-2.6383</td>\n",
       "      <td>1.9242</td>\n",
       "      <td>0.10645</td>\n",
       "    </tr>\n",
       "    <tr>\n",
       "      <th>3</th>\n",
       "      <td>3.45660</td>\n",
       "      <td>9.5228</td>\n",
       "      <td>-4.0112</td>\n",
       "      <td>-3.59440</td>\n",
       "    </tr>\n",
       "    <tr>\n",
       "      <th>4</th>\n",
       "      <td>0.32924</td>\n",
       "      <td>-4.4552</td>\n",
       "      <td>4.5718</td>\n",
       "      <td>-0.98880</td>\n",
       "    </tr>\n",
       "  </tbody>\n",
       "</table>\n",
       "</div>"
      ],
      "text/plain": [
       "         0       1       2        3\n",
       "0  3.62160  8.6661 -2.8073 -0.44699\n",
       "1  4.54590  8.1674 -2.4586 -1.46210\n",
       "2  3.86600 -2.6383  1.9242  0.10645\n",
       "3  3.45660  9.5228 -4.0112 -3.59440\n",
       "4  0.32924 -4.4552  4.5718 -0.98880"
      ]
     },
     "execution_count": 5,
     "metadata": {},
     "output_type": "execute_result"
    }
   ],
   "source": [
    "### first four columns are features and last column are ouptut \n",
    "X= bank_data.iloc[:,:-1]\n",
    "y= bank_data[4]\n",
    "X.head()"
   ]
  },
  {
   "cell_type": "code",
   "execution_count": 14,
   "metadata": {
    "collapsed": true
   },
   "outputs": [],
   "source": [
    "\n",
    "def refit(X_train, y_train,X_test,y_test):\n",
    "    \n",
    "    ### tuning params \n",
    "    parameters = {'C':np.power(10, np.arange(-3, 7,0.5))}\n",
    "    svc = LinearSVC(penalty='l1', dual=False)\n",
    "    clf = GridSearchCV(svc, parameters, cv=5) ## 5fold\n",
    "    clf.fit(X_train, y_train)\n",
    "    best_C = clf.best_params_['C']\n",
    "\n",
    "    # Refit the model with the best params\n",
    "    svc = LinearSVC(penalty='l1', dual=False, C=best_C, max_iter=10000)\n",
    "    svc.fit(X_train, y_train)\n",
    "        \n",
    "    test_error = 1-svc.score(X_test, y_test)\n",
    "\n",
    "    return test_error "
   ]
  },
  {
   "cell_type": "code",
   "execution_count": 17,
   "metadata": {
    "collapsed": true
   },
   "outputs": [],
   "source": [
    "test_size = 472/(472+900)"
   ]
  },
  {
   "cell_type": "markdown",
   "metadata": {},
   "source": [
    "### (b) Repeat each of the following two procedures 50 times. You will have 50 errors for 90 SVMs per each procedure."
   ]
  },
  {
   "cell_type": "code",
   "execution_count": 360,
   "metadata": {
    "collapsed": true
   },
   "outputs": [],
   "source": [
    "def select_10_sample(x, y):\n",
    "    select_x = pd.DataFrame()\n",
    "    select_y = pd.DataFrame()\n",
    "    #try to keep balance of select sample\n",
    "    while len(select_y) < 1 or len(np.bincount(select_y)) < 2 or np.bincount(select_y).min() < 2:\n",
    "        ### get 10 random points \n",
    "        rand_index = np.random.randint(0,x.shape[0],10)\n",
    "        select_x = x.iloc[rand_index]\n",
    "        select_y = y.iloc[rand_index]\n",
    "    \n",
    "    ### drop the selection random index points and get remaining points \n",
    "    unselect_x = x.drop(x.index[rand_index])\n",
    "    unselect_y = y.drop(y.index[rand_index])\n",
    "    \n",
    "    #reset index\n",
    "    select_x = select_x.reset_index(drop=True)\n",
    "    select_y = select_y.reset_index(drop=True)\n",
    "    unselect_x = unselect_x.reset_index(drop=True)\n",
    "    unselect_y = unselect_y.reset_index(drop=True)\n",
    "    return select_x, select_y, unselect_x, unselect_y"
   ]
  },
  {
   "cell_type": "code",
   "execution_count": 361,
   "metadata": {
    "collapsed": true
   },
   "outputs": [],
   "source": [
    "def passive_learning():\n",
    "    \n",
    "  \n",
    "    X_train_whole, X_test, y_train_whole, y_test = train_test_split(X, y, test_size=test_size, \n",
    "                                                                    stratify=y)\n",
    "    #first select, get 10 sample as the first training data\n",
    "    select_x, select_y, unselect_x, unselect_y = select_10_sample(X_train_whole, y_train_whole)\n",
    "    \n",
    "    \n",
    "    passive_test_error = list()\n",
    "    \n",
    "    for i in range(90):\n",
    "        test_error = refit(select_x, select_y, X_test,y_test)\n",
    "        \n",
    "        passive_test_error.append(test_error)\n",
    "        if(i!=89):\n",
    "            ### without replacement, we get another random sample 10 points and get index from unselect \n",
    "            new_select_x = unselect_x.sample(n=10, replace=False, random_state=None, axis=0)\n",
    "            rand_index = np.array(new_select_x.index)\n",
    "            new_select_y = unselect_y.iloc[rand_index]\n",
    "            \n",
    "            ### drop the points we select from unselect \n",
    "            unselect_x = unselect_x.drop(unselect_x.index[rand_index])\n",
    "            unselect_y = unselect_y.drop(unselect_y.index[rand_index])\n",
    "            \n",
    "            #reset index\n",
    "            unselect_x = unselect_x.reset_index(drop=True)\n",
    "            unselect_y = unselect_y.reset_index(drop=True)\n",
    "            \n",
    "            ### update select_x , and select_y \n",
    "            select_x = pd.concat([select_x, new_select_x],axis=0)\n",
    "            select_y = pd.concat([select_y, new_select_y],axis=0)\n",
    "             \n",
    "    \n",
    "    return passive_test_error"
   ]
  },
  {
   "cell_type": "markdown",
   "metadata": {},
   "source": [
    "# procedures 50 times"
   ]
  },
  {
   "cell_type": "code",
   "execution_count": 362,
   "metadata": {},
   "outputs": [
    {
     "name": "stdout",
     "output_type": "stream",
     "text": [
      "complete 0 times\n",
      "complete 1 times\n",
      "complete 2 times\n",
      "complete 3 times\n",
      "complete 4 times\n",
      "complete 5 times\n",
      "complete 6 times\n",
      "complete 7 times\n",
      "complete 8 times\n",
      "complete 9 times\n",
      "complete 10 times\n",
      "complete 11 times\n",
      "complete 12 times\n",
      "complete 13 times\n",
      "complete 14 times\n",
      "complete 15 times\n",
      "complete 16 times\n",
      "complete 17 times\n",
      "complete 18 times\n",
      "complete 19 times\n",
      "complete 20 times\n",
      "complete 21 times\n",
      "complete 22 times\n",
      "complete 23 times\n",
      "complete 24 times\n",
      "complete 25 times\n",
      "complete 26 times\n",
      "complete 27 times\n",
      "complete 28 times\n",
      "complete 29 times\n",
      "complete 30 times\n",
      "complete 31 times\n",
      "complete 32 times\n",
      "complete 33 times\n",
      "complete 34 times\n",
      "complete 35 times\n",
      "complete 36 times\n",
      "complete 37 times\n",
      "complete 38 times\n",
      "complete 39 times\n",
      "complete 40 times\n",
      "complete 41 times\n",
      "complete 42 times\n",
      "complete 43 times\n",
      "complete 44 times\n",
      "complete 45 times\n",
      "complete 46 times\n",
      "complete 47 times\n",
      "complete 48 times\n",
      "complete 49 times\n"
     ]
    }
   ],
   "source": [
    "passive_result = list()\n",
    "for i in range(50):\n",
    "    print(\"complete\", i, \"times\")\n",
    "    passive_error = passive_learning()\n",
    "    passive_result.append(passive_error)"
   ]
  },
  {
   "cell_type": "code",
   "execution_count": 393,
   "metadata": {},
   "outputs": [
    {
     "data": {
      "image/png": "[encoded data removed]",
      "text/plain": [
       "<Figure size 432x288 with 1 Axes>"
      ]
     },
     "metadata": {
      "needs_background": "light"
     },
     "output_type": "display_data"
    }
   ],
   "source": [
    "#plot the average result\n",
    "plt.plot(np.arange(1,91)*10, passive_result.mean(), c='r',label='passive learning')\n",
    "plt.xlabel('number of training data')\n",
    "plt.ylabel('error rate')\n",
    "plt.legend()\n",
    "plt.show()"
   ]
  },
  {
   "cell_type": "markdown",
   "metadata": {},
   "source": [
    "####  ii. Train a SVM with a pool of 10 randomly selected data points from the training set using linear kernel and L1 penalty.\n",
    "    Select the parameters of the SVM with 10-fold cross validation. Choose the 10 closest data points in the training set to the hyperplane of the SVM and add them to the pool. Do not replace the samples back into the training set. Train a new SVM using the pool. Repeat this process until all training data is used. You will have 90 SVMs that were trained using 10, 20, 30,..., 900 data points and their 90 test errors. You have implemented active learning."
   ]
  },
  {
   "cell_type": "code",
   "execution_count": 2,
   "metadata": {
    "collapsed": true
   },
   "outputs": [],
   "source": [
    "def find_best_params(select_x,select_y):\n",
    "    parameters = {'C':np.power(10, np.arange(-3, 7,0.5))}\n",
    "    svc = LinearSVC(penalty='l1', dual=False)\n",
    "    clf = GridSearchCV(svc, parameters, cv=5)\n",
    "    clf.fit(select_x, select_y)\n",
    "    best_C = clf.best_params_['C']\n",
    "    \n",
    "    return best_C"
   ]
  },
  {
   "cell_type": "code",
   "execution_count": 383,
   "metadata": {
    "collapsed": true
   },
   "outputs": [],
   "source": [
    "def active_learning():\n",
    "    X_train_whole, X_test, y_train_whole, y_test = train_test_split(X, y, test_size=test_size, \n",
    "                                                                    stratify=y)\n",
    "    #first select, get 10 sample as the first training data\n",
    "    select_x, select_y, unselect_x, unselect_y = select_10_sample(X_train_whole, y_train_whole)\n",
    "    active_errors = list()\n",
    "     \n",
    "    for i in range(90):\n",
    "        \n",
    "        ### get the best_c \n",
    "        best_C = find_best_params(select_x,select_y)\n",
    "\n",
    "        # Refit the model with the best params\n",
    "        svc = LinearSVC(penalty='l1', dual=False, C=best_C,max_iter=10000)\n",
    "        svc.fit(select_x, select_y)\n",
    "        \n",
    "        # get the test_error \n",
    "        test_error = 1-svc.score(X_test,y_test)\n",
    "        \n",
    "        active_errors.append(test_error)\n",
    "        \n",
    "        if(i!=89): # if i == 89, means we have select all 900 points \n",
    "            ### choose the closest 10 points \n",
    "            distances = svc.decision_function(unselect_x)\n",
    "            closest = np.argsort(abs(distances))[:10]\n",
    "            ### get new select x and y based on 10 closest index \n",
    "            new_select_x = unselect_x.iloc[closest,:]\n",
    "            new_select_y = unselect_y.iloc[closest]\n",
    "            ### drop the already selected points from unselect \n",
    "            unselect_x = unselect_x.drop(unselect_x.index[closest])\n",
    "            unselect_y = unselect_y.drop(unselect_y.index[closest])\n",
    "            \n",
    "            #reset index\n",
    "            unselect_x = unselect_x.reset_index(drop=True)\n",
    "            unselect_y = unselect_y.reset_index(drop=True)\n",
    "            ### concatenate new select_x with old one together \n",
    "            select_x = pd.concat([select_x, new_select_x],axis=0)\n",
    "            select_y = pd.concat([select_y, new_select_y],axis=0)\n",
    "            \n",
    "    return active_errors"
   ]
  },
  {
   "cell_type": "markdown",
   "metadata": {},
   "source": [
    "# procedures 50 times"
   ]
  },
  {
   "cell_type": "code",
   "execution_count": 384,
   "metadata": {},
   "outputs": [
    {
     "name": "stdout",
     "output_type": "stream",
     "text": [
      "complete 0 times\n",
      "complete 1 times\n",
      "complete 2 times\n",
      "complete 3 times\n",
      "complete 4 times\n",
      "complete 5 times\n",
      "complete 6 times\n",
      "complete 7 times\n",
      "complete 8 times\n",
      "complete 9 times\n",
      "complete 10 times\n",
      "complete 11 times\n",
      "complete 12 times\n",
      "complete 13 times\n",
      "complete 14 times\n",
      "complete 15 times\n",
      "complete 16 times\n",
      "complete 17 times\n",
      "complete 18 times\n",
      "complete 19 times\n",
      "complete 20 times\n",
      "complete 21 times\n",
      "complete 22 times\n",
      "complete 23 times\n",
      "complete 24 times\n",
      "complete 25 times\n",
      "complete 26 times\n",
      "complete 27 times\n",
      "complete 28 times\n",
      "complete 29 times\n",
      "complete 30 times\n",
      "complete 31 times\n",
      "complete 32 times\n",
      "complete 33 times\n",
      "complete 34 times\n",
      "complete 35 times\n",
      "complete 36 times\n",
      "complete 37 times\n",
      "complete 38 times\n",
      "complete 39 times\n",
      "complete 40 times\n",
      "complete 41 times\n",
      "complete 42 times\n",
      "complete 43 times\n",
      "complete 44 times\n",
      "complete 45 times\n",
      "complete 46 times\n",
      "complete 47 times\n",
      "complete 48 times\n",
      "complete 49 times\n"
     ]
    }
   ],
   "source": [
    "active_result = list()\n",
    "for i in range(50):\n",
    "    print(\"complete\", i, \"times\")\n",
    "    active_error = active_learning()\n",
    "    active_result.append(active_error)"
   ]
  },
  {
   "cell_type": "code",
   "execution_count": 389,
   "metadata": {},
   "outputs": [
    {
     "data": {
      "image/png": "[encoded data removed]",
      "text/plain": [
       "<Figure size 432x288 with 1 Axes>"
      ]
     },
     "metadata": {
      "needs_background": "light"
     },
     "output_type": "display_data"
    }
   ],
   "source": [
    "#plot the average result for 50 runs \n",
    "plt.plot(np.arange(1,91)*10, active_result_df.mean(), c='b',label='active learning')\n",
    "plt.xlabel('number of training data')\n",
    "plt.ylabel('error rate')\n",
    "plt.legend()\n",
    "plt.show()"
   ]
  },
  {
   "cell_type": "markdown",
   "metadata": {},
   "source": [
    "#### (c) Average the 50 test errors for each of the incrementally trained 90 SVMs in 2(b)i and 2(b)ii. \n",
    "    By doing so, you are performing a Monte Carlo simulation. Plot average test error versus number of training instances for both active and passive learners on the same figure and report your conclusions. Here, you are actually obtaining a learning curve by Monte-Carlo simulation."
   ]
  },
  {
   "cell_type": "code",
   "execution_count": 395,
   "metadata": {},
   "outputs": [
    {
     "data": {
      "image/png": "[encoded data removed]",
      "text/plain": [
       "<Figure size 432x288 with 1 Axes>"
      ]
     },
     "metadata": {
      "needs_background": "light"
     },
     "output_type": "display_data"
    }
   ],
   "source": [
    "### plot together \n",
    "plt.plot(np.arange(1,91)*10, passive_result.mean() , c='r',label='passive learning')\n",
    "plt.plot(np.arange(1,91)*10, active_result_df.mean(), c='b', label='active learning')\n",
    "plt.xlabel('number of training data')\n",
    "plt.ylabel('error rate')\n",
    "plt.legend()\n",
    "plt.show()"
   ]
  },
  {
   "cell_type": "markdown",
   "metadata": {},
   "source": [
    "##### conclusion:\n",
    "    from the plot, We can directly see thay active learning is better when number of training data is small. Howeverm, with the increase of number of training data, the passive learning will become as well as active learning. also, the test error will continuely drop as the number of training points increases, however, the change vary little when number of training data are large. both plot display a elbow shape. "
   ]
  },
  {
   "cell_type": "code",
   "execution_count": null,
   "metadata": {
    "collapsed": true
   },
   "outputs": [],
   "source": []
  }
 ],
 "metadata": {
  "kernelspec": {
   "display_name": "Python 3",
   "language": "python",
   "name": "python3"
  },
  "language_info": {
   "codemirror_mode": {
    "name": "ipython",
    "version": 3
   },
   "file_extension": ".py",
   "mimetype": "text/x-python",
   "name": "python",
   "nbconvert_exporter": "python",
   "pygments_lexer": "ipython3",
   "version": "3.6.3"
  }
 },
 "nbformat": 4,
 "nbformat_minor": 2
}
